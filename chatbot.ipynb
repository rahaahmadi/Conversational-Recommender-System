{
  "nbformat": 4,
  "nbformat_minor": 0,
  "metadata": {
    "colab": {
      "name": "HW8_RahaAhmadi.ipynb",
      "provenance": []
    },
    "kernelspec": {
      "name": "python3",
      "display_name": "Python 3"
    },
    "language_info": {
      "name": "python"
    },
    "widgets": {
      "application/vnd.jupyter.widget-state+json": {
        "88615315155e45e2ae3315d4293bd8dc": {
          "model_module": "@jupyter-widgets/controls",
          "model_name": "HBoxModel",
          "model_module_version": "1.5.0",
          "state": {
            "_dom_classes": [],
            "_model_module": "@jupyter-widgets/controls",
            "_model_module_version": "1.5.0",
            "_model_name": "HBoxModel",
            "_view_count": null,
            "_view_module": "@jupyter-widgets/controls",
            "_view_module_version": "1.5.0",
            "_view_name": "HBoxView",
            "box_style": "",
            "children": [
              "IPY_MODEL_72d3c7ea11ae4e0abb1d313e2a3bf797",
              "IPY_MODEL_df04e60e749045279e1ee67c125ea420",
              "IPY_MODEL_3bddcb6235d44e4497af4bfd1bb58564"
            ],
            "layout": "IPY_MODEL_f0c90c30899748759a655df5e50058eb"
          }
        },
        "72d3c7ea11ae4e0abb1d313e2a3bf797": {
          "model_module": "@jupyter-widgets/controls",
          "model_name": "HTMLModel",
          "model_module_version": "1.5.0",
          "state": {
            "_dom_classes": [],
            "_model_module": "@jupyter-widgets/controls",
            "_model_module_version": "1.5.0",
            "_model_name": "HTMLModel",
            "_view_count": null,
            "_view_module": "@jupyter-widgets/controls",
            "_view_module_version": "1.5.0",
            "_view_name": "HTMLView",
            "description": "",
            "description_tooltip": null,
            "layout": "IPY_MODEL_e4d8f796eca343448b370d0e809a3293",
            "placeholder": "​",
            "style": "IPY_MODEL_62f4e908f8c449f2a7dd86751db62ebf",
            "value": "Downloading: 100%"
          }
        },
        "df04e60e749045279e1ee67c125ea420": {
          "model_module": "@jupyter-widgets/controls",
          "model_name": "FloatProgressModel",
          "model_module_version": "1.5.0",
          "state": {
            "_dom_classes": [],
            "_model_module": "@jupyter-widgets/controls",
            "_model_module_version": "1.5.0",
            "_model_name": "FloatProgressModel",
            "_view_count": null,
            "_view_module": "@jupyter-widgets/controls",
            "_view_module_version": "1.5.0",
            "_view_name": "ProgressView",
            "bar_style": "success",
            "description": "",
            "description_tooltip": null,
            "layout": "IPY_MODEL_24a445a58bf74daebbe9d5cd42fdb27f",
            "max": 231508,
            "min": 0,
            "orientation": "horizontal",
            "style": "IPY_MODEL_4214899708694988b61bb02ceebba2bf",
            "value": 231508
          }
        },
        "3bddcb6235d44e4497af4bfd1bb58564": {
          "model_module": "@jupyter-widgets/controls",
          "model_name": "HTMLModel",
          "model_module_version": "1.5.0",
          "state": {
            "_dom_classes": [],
            "_model_module": "@jupyter-widgets/controls",
            "_model_module_version": "1.5.0",
            "_model_name": "HTMLModel",
            "_view_count": null,
            "_view_module": "@jupyter-widgets/controls",
            "_view_module_version": "1.5.0",
            "_view_name": "HTMLView",
            "description": "",
            "description_tooltip": null,
            "layout": "IPY_MODEL_12bdcff07d42474caf8823bb7ffa0e51",
            "placeholder": "​",
            "style": "IPY_MODEL_0719375c792f4fe0996055363bfe3abc",
            "value": " 226k/226k [00:00&lt;00:00, 7.70kB/s]"
          }
        },
        "f0c90c30899748759a655df5e50058eb": {
          "model_module": "@jupyter-widgets/base",
          "model_name": "LayoutModel",
          "model_module_version": "1.2.0",
          "state": {
            "_model_module": "@jupyter-widgets/base",
            "_model_module_version": "1.2.0",
            "_model_name": "LayoutModel",
            "_view_count": null,
            "_view_module": "@jupyter-widgets/base",
            "_view_module_version": "1.2.0",
            "_view_name": "LayoutView",
            "align_content": null,
            "align_items": null,
            "align_self": null,
            "border": null,
            "bottom": null,
            "display": null,
            "flex": null,
            "flex_flow": null,
            "grid_area": null,
            "grid_auto_columns": null,
            "grid_auto_flow": null,
            "grid_auto_rows": null,
            "grid_column": null,
            "grid_gap": null,
            "grid_row": null,
            "grid_template_areas": null,
            "grid_template_columns": null,
            "grid_template_rows": null,
            "height": null,
            "justify_content": null,
            "justify_items": null,
            "left": null,
            "margin": null,
            "max_height": null,
            "max_width": null,
            "min_height": null,
            "min_width": null,
            "object_fit": null,
            "object_position": null,
            "order": null,
            "overflow": null,
            "overflow_x": null,
            "overflow_y": null,
            "padding": null,
            "right": null,
            "top": null,
            "visibility": null,
            "width": null
          }
        },
        "e4d8f796eca343448b370d0e809a3293": {
          "model_module": "@jupyter-widgets/base",
          "model_name": "LayoutModel",
          "model_module_version": "1.2.0",
          "state": {
            "_model_module": "@jupyter-widgets/base",
            "_model_module_version": "1.2.0",
            "_model_name": "LayoutModel",
            "_view_count": null,
            "_view_module": "@jupyter-widgets/base",
            "_view_module_version": "1.2.0",
            "_view_name": "LayoutView",
            "align_content": null,
            "align_items": null,
            "align_self": null,
            "border": null,
            "bottom": null,
            "display": null,
            "flex": null,
            "flex_flow": null,
            "grid_area": null,
            "grid_auto_columns": null,
            "grid_auto_flow": null,
            "grid_auto_rows": null,
            "grid_column": null,
            "grid_gap": null,
            "grid_row": null,
            "grid_template_areas": null,
            "grid_template_columns": null,
            "grid_template_rows": null,
            "height": null,
            "justify_content": null,
            "justify_items": null,
            "left": null,
            "margin": null,
            "max_height": null,
            "max_width": null,
            "min_height": null,
            "min_width": null,
            "object_fit": null,
            "object_position": null,
            "order": null,
            "overflow": null,
            "overflow_x": null,
            "overflow_y": null,
            "padding": null,
            "right": null,
            "top": null,
            "visibility": null,
            "width": null
          }
        },
        "62f4e908f8c449f2a7dd86751db62ebf": {
          "model_module": "@jupyter-widgets/controls",
          "model_name": "DescriptionStyleModel",
          "model_module_version": "1.5.0",
          "state": {
            "_model_module": "@jupyter-widgets/controls",
            "_model_module_version": "1.5.0",
            "_model_name": "DescriptionStyleModel",
            "_view_count": null,
            "_view_module": "@jupyter-widgets/base",
            "_view_module_version": "1.2.0",
            "_view_name": "StyleView",
            "description_width": ""
          }
        },
        "24a445a58bf74daebbe9d5cd42fdb27f": {
          "model_module": "@jupyter-widgets/base",
          "model_name": "LayoutModel",
          "model_module_version": "1.2.0",
          "state": {
            "_model_module": "@jupyter-widgets/base",
            "_model_module_version": "1.2.0",
            "_model_name": "LayoutModel",
            "_view_count": null,
            "_view_module": "@jupyter-widgets/base",
            "_view_module_version": "1.2.0",
            "_view_name": "LayoutView",
            "align_content": null,
            "align_items": null,
            "align_self": null,
            "border": null,
            "bottom": null,
            "display": null,
            "flex": null,
            "flex_flow": null,
            "grid_area": null,
            "grid_auto_columns": null,
            "grid_auto_flow": null,
            "grid_auto_rows": null,
            "grid_column": null,
            "grid_gap": null,
            "grid_row": null,
            "grid_template_areas": null,
            "grid_template_columns": null,
            "grid_template_rows": null,
            "height": null,
            "justify_content": null,
            "justify_items": null,
            "left": null,
            "margin": null,
            "max_height": null,
            "max_width": null,
            "min_height": null,
            "min_width": null,
            "object_fit": null,
            "object_position": null,
            "order": null,
            "overflow": null,
            "overflow_x": null,
            "overflow_y": null,
            "padding": null,
            "right": null,
            "top": null,
            "visibility": null,
            "width": null
          }
        },
        "4214899708694988b61bb02ceebba2bf": {
          "model_module": "@jupyter-widgets/controls",
          "model_name": "ProgressStyleModel",
          "model_module_version": "1.5.0",
          "state": {
            "_model_module": "@jupyter-widgets/controls",
            "_model_module_version": "1.5.0",
            "_model_name": "ProgressStyleModel",
            "_view_count": null,
            "_view_module": "@jupyter-widgets/base",
            "_view_module_version": "1.2.0",
            "_view_name": "StyleView",
            "bar_color": null,
            "description_width": ""
          }
        },
        "12bdcff07d42474caf8823bb7ffa0e51": {
          "model_module": "@jupyter-widgets/base",
          "model_name": "LayoutModel",
          "model_module_version": "1.2.0",
          "state": {
            "_model_module": "@jupyter-widgets/base",
            "_model_module_version": "1.2.0",
            "_model_name": "LayoutModel",
            "_view_count": null,
            "_view_module": "@jupyter-widgets/base",
            "_view_module_version": "1.2.0",
            "_view_name": "LayoutView",
            "align_content": null,
            "align_items": null,
            "align_self": null,
            "border": null,
            "bottom": null,
            "display": null,
            "flex": null,
            "flex_flow": null,
            "grid_area": null,
            "grid_auto_columns": null,
            "grid_auto_flow": null,
            "grid_auto_rows": null,
            "grid_column": null,
            "grid_gap": null,
            "grid_row": null,
            "grid_template_areas": null,
            "grid_template_columns": null,
            "grid_template_rows": null,
            "height": null,
            "justify_content": null,
            "justify_items": null,
            "left": null,
            "margin": null,
            "max_height": null,
            "max_width": null,
            "min_height": null,
            "min_width": null,
            "object_fit": null,
            "object_position": null,
            "order": null,
            "overflow": null,
            "overflow_x": null,
            "overflow_y": null,
            "padding": null,
            "right": null,
            "top": null,
            "visibility": null,
            "width": null
          }
        },
        "0719375c792f4fe0996055363bfe3abc": {
          "model_module": "@jupyter-widgets/controls",
          "model_name": "DescriptionStyleModel",
          "model_module_version": "1.5.0",
          "state": {
            "_model_module": "@jupyter-widgets/controls",
            "_model_module_version": "1.5.0",
            "_model_name": "DescriptionStyleModel",
            "_view_count": null,
            "_view_module": "@jupyter-widgets/base",
            "_view_module_version": "1.2.0",
            "_view_name": "StyleView",
            "description_width": ""
          }
        },
        "3aed6a3ad949439c8532cf841388b927": {
          "model_module": "@jupyter-widgets/controls",
          "model_name": "HBoxModel",
          "model_module_version": "1.5.0",
          "state": {
            "_dom_classes": [],
            "_model_module": "@jupyter-widgets/controls",
            "_model_module_version": "1.5.0",
            "_model_name": "HBoxModel",
            "_view_count": null,
            "_view_module": "@jupyter-widgets/controls",
            "_view_module_version": "1.5.0",
            "_view_name": "HBoxView",
            "box_style": "",
            "children": [
              "IPY_MODEL_643f53e7650348b7b836207e15a7eb39",
              "IPY_MODEL_247459b9ee4d487380633825e4f68294",
              "IPY_MODEL_f7e2742c451a4ccca40654e68cd6daa8"
            ],
            "layout": "IPY_MODEL_70a757540068428db21a249b59c3d703"
          }
        },
        "643f53e7650348b7b836207e15a7eb39": {
          "model_module": "@jupyter-widgets/controls",
          "model_name": "HTMLModel",
          "model_module_version": "1.5.0",
          "state": {
            "_dom_classes": [],
            "_model_module": "@jupyter-widgets/controls",
            "_model_module_version": "1.5.0",
            "_model_name": "HTMLModel",
            "_view_count": null,
            "_view_module": "@jupyter-widgets/controls",
            "_view_module_version": "1.5.0",
            "_view_name": "HTMLView",
            "description": "",
            "description_tooltip": null,
            "layout": "IPY_MODEL_32619532933e4cc3ba34d1f4f996d8f9",
            "placeholder": "​",
            "style": "IPY_MODEL_5644e96c38124b798204cf023b975044",
            "value": "Downloading: 100%"
          }
        },
        "247459b9ee4d487380633825e4f68294": {
          "model_module": "@jupyter-widgets/controls",
          "model_name": "FloatProgressModel",
          "model_module_version": "1.5.0",
          "state": {
            "_dom_classes": [],
            "_model_module": "@jupyter-widgets/controls",
            "_model_module_version": "1.5.0",
            "_model_name": "FloatProgressModel",
            "_view_count": null,
            "_view_module": "@jupyter-widgets/controls",
            "_view_module_version": "1.5.0",
            "_view_name": "ProgressView",
            "bar_style": "success",
            "description": "",
            "description_tooltip": null,
            "layout": "IPY_MODEL_004ab937fece436585e38ad0ffb2930b",
            "max": 28,
            "min": 0,
            "orientation": "horizontal",
            "style": "IPY_MODEL_7c47eb027d814cb79b6fed7cc74f2fa5",
            "value": 28
          }
        },
        "f7e2742c451a4ccca40654e68cd6daa8": {
          "model_module": "@jupyter-widgets/controls",
          "model_name": "HTMLModel",
          "model_module_version": "1.5.0",
          "state": {
            "_dom_classes": [],
            "_model_module": "@jupyter-widgets/controls",
            "_model_module_version": "1.5.0",
            "_model_name": "HTMLModel",
            "_view_count": null,
            "_view_module": "@jupyter-widgets/controls",
            "_view_module_version": "1.5.0",
            "_view_name": "HTMLView",
            "description": "",
            "description_tooltip": null,
            "layout": "IPY_MODEL_4db0e06f44ea45c99796328c954e2d8e",
            "placeholder": "​",
            "style": "IPY_MODEL_d84b2e7b943c4958a3001428f82c1290",
            "value": " 28.0/28.0 [00:00&lt;00:00, 164B/s]"
          }
        },
        "70a757540068428db21a249b59c3d703": {
          "model_module": "@jupyter-widgets/base",
          "model_name": "LayoutModel",
          "model_module_version": "1.2.0",
          "state": {
            "_model_module": "@jupyter-widgets/base",
            "_model_module_version": "1.2.0",
            "_model_name": "LayoutModel",
            "_view_count": null,
            "_view_module": "@jupyter-widgets/base",
            "_view_module_version": "1.2.0",
            "_view_name": "LayoutView",
            "align_content": null,
            "align_items": null,
            "align_self": null,
            "border": null,
            "bottom": null,
            "display": null,
            "flex": null,
            "flex_flow": null,
            "grid_area": null,
            "grid_auto_columns": null,
            "grid_auto_flow": null,
            "grid_auto_rows": null,
            "grid_column": null,
            "grid_gap": null,
            "grid_row": null,
            "grid_template_areas": null,
            "grid_template_columns": null,
            "grid_template_rows": null,
            "height": null,
            "justify_content": null,
            "justify_items": null,
            "left": null,
            "margin": null,
            "max_height": null,
            "max_width": null,
            "min_height": null,
            "min_width": null,
            "object_fit": null,
            "object_position": null,
            "order": null,
            "overflow": null,
            "overflow_x": null,
            "overflow_y": null,
            "padding": null,
            "right": null,
            "top": null,
            "visibility": null,
            "width": null
          }
        },
        "32619532933e4cc3ba34d1f4f996d8f9": {
          "model_module": "@jupyter-widgets/base",
          "model_name": "LayoutModel",
          "model_module_version": "1.2.0",
          "state": {
            "_model_module": "@jupyter-widgets/base",
            "_model_module_version": "1.2.0",
            "_model_name": "LayoutModel",
            "_view_count": null,
            "_view_module": "@jupyter-widgets/base",
            "_view_module_version": "1.2.0",
            "_view_name": "LayoutView",
            "align_content": null,
            "align_items": null,
            "align_self": null,
            "border": null,
            "bottom": null,
            "display": null,
            "flex": null,
            "flex_flow": null,
            "grid_area": null,
            "grid_auto_columns": null,
            "grid_auto_flow": null,
            "grid_auto_rows": null,
            "grid_column": null,
            "grid_gap": null,
            "grid_row": null,
            "grid_template_areas": null,
            "grid_template_columns": null,
            "grid_template_rows": null,
            "height": null,
            "justify_content": null,
            "justify_items": null,
            "left": null,
            "margin": null,
            "max_height": null,
            "max_width": null,
            "min_height": null,
            "min_width": null,
            "object_fit": null,
            "object_position": null,
            "order": null,
            "overflow": null,
            "overflow_x": null,
            "overflow_y": null,
            "padding": null,
            "right": null,
            "top": null,
            "visibility": null,
            "width": null
          }
        },
        "5644e96c38124b798204cf023b975044": {
          "model_module": "@jupyter-widgets/controls",
          "model_name": "DescriptionStyleModel",
          "model_module_version": "1.5.0",
          "state": {
            "_model_module": "@jupyter-widgets/controls",
            "_model_module_version": "1.5.0",
            "_model_name": "DescriptionStyleModel",
            "_view_count": null,
            "_view_module": "@jupyter-widgets/base",
            "_view_module_version": "1.2.0",
            "_view_name": "StyleView",
            "description_width": ""
          }
        },
        "004ab937fece436585e38ad0ffb2930b": {
          "model_module": "@jupyter-widgets/base",
          "model_name": "LayoutModel",
          "model_module_version": "1.2.0",
          "state": {
            "_model_module": "@jupyter-widgets/base",
            "_model_module_version": "1.2.0",
            "_model_name": "LayoutModel",
            "_view_count": null,
            "_view_module": "@jupyter-widgets/base",
            "_view_module_version": "1.2.0",
            "_view_name": "LayoutView",
            "align_content": null,
            "align_items": null,
            "align_self": null,
            "border": null,
            "bottom": null,
            "display": null,
            "flex": null,
            "flex_flow": null,
            "grid_area": null,
            "grid_auto_columns": null,
            "grid_auto_flow": null,
            "grid_auto_rows": null,
            "grid_column": null,
            "grid_gap": null,
            "grid_row": null,
            "grid_template_areas": null,
            "grid_template_columns": null,
            "grid_template_rows": null,
            "height": null,
            "justify_content": null,
            "justify_items": null,
            "left": null,
            "margin": null,
            "max_height": null,
            "max_width": null,
            "min_height": null,
            "min_width": null,
            "object_fit": null,
            "object_position": null,
            "order": null,
            "overflow": null,
            "overflow_x": null,
            "overflow_y": null,
            "padding": null,
            "right": null,
            "top": null,
            "visibility": null,
            "width": null
          }
        },
        "7c47eb027d814cb79b6fed7cc74f2fa5": {
          "model_module": "@jupyter-widgets/controls",
          "model_name": "ProgressStyleModel",
          "model_module_version": "1.5.0",
          "state": {
            "_model_module": "@jupyter-widgets/controls",
            "_model_module_version": "1.5.0",
            "_model_name": "ProgressStyleModel",
            "_view_count": null,
            "_view_module": "@jupyter-widgets/base",
            "_view_module_version": "1.2.0",
            "_view_name": "StyleView",
            "bar_color": null,
            "description_width": ""
          }
        },
        "4db0e06f44ea45c99796328c954e2d8e": {
          "model_module": "@jupyter-widgets/base",
          "model_name": "LayoutModel",
          "model_module_version": "1.2.0",
          "state": {
            "_model_module": "@jupyter-widgets/base",
            "_model_module_version": "1.2.0",
            "_model_name": "LayoutModel",
            "_view_count": null,
            "_view_module": "@jupyter-widgets/base",
            "_view_module_version": "1.2.0",
            "_view_name": "LayoutView",
            "align_content": null,
            "align_items": null,
            "align_self": null,
            "border": null,
            "bottom": null,
            "display": null,
            "flex": null,
            "flex_flow": null,
            "grid_area": null,
            "grid_auto_columns": null,
            "grid_auto_flow": null,
            "grid_auto_rows": null,
            "grid_column": null,
            "grid_gap": null,
            "grid_row": null,
            "grid_template_areas": null,
            "grid_template_columns": null,
            "grid_template_rows": null,
            "height": null,
            "justify_content": null,
            "justify_items": null,
            "left": null,
            "margin": null,
            "max_height": null,
            "max_width": null,
            "min_height": null,
            "min_width": null,
            "object_fit": null,
            "object_position": null,
            "order": null,
            "overflow": null,
            "overflow_x": null,
            "overflow_y": null,
            "padding": null,
            "right": null,
            "top": null,
            "visibility": null,
            "width": null
          }
        },
        "d84b2e7b943c4958a3001428f82c1290": {
          "model_module": "@jupyter-widgets/controls",
          "model_name": "DescriptionStyleModel",
          "model_module_version": "1.5.0",
          "state": {
            "_model_module": "@jupyter-widgets/controls",
            "_model_module_version": "1.5.0",
            "_model_name": "DescriptionStyleModel",
            "_view_count": null,
            "_view_module": "@jupyter-widgets/base",
            "_view_module_version": "1.2.0",
            "_view_name": "StyleView",
            "description_width": ""
          }
        },
        "65248d808cd3400ab7d2b1f7903d9489": {
          "model_module": "@jupyter-widgets/controls",
          "model_name": "HBoxModel",
          "model_module_version": "1.5.0",
          "state": {
            "_dom_classes": [],
            "_model_module": "@jupyter-widgets/controls",
            "_model_module_version": "1.5.0",
            "_model_name": "HBoxModel",
            "_view_count": null,
            "_view_module": "@jupyter-widgets/controls",
            "_view_module_version": "1.5.0",
            "_view_name": "HBoxView",
            "box_style": "",
            "children": [
              "IPY_MODEL_f78e25a37f6c4657add5e153d3b0fd59",
              "IPY_MODEL_9d243e0a73514419818c86332cca57ee",
              "IPY_MODEL_87ac8dcd4f714846ac2ed54755e31551"
            ],
            "layout": "IPY_MODEL_4fec389b8921401587959b1843b8d457"
          }
        },
        "f78e25a37f6c4657add5e153d3b0fd59": {
          "model_module": "@jupyter-widgets/controls",
          "model_name": "HTMLModel",
          "model_module_version": "1.5.0",
          "state": {
            "_dom_classes": [],
            "_model_module": "@jupyter-widgets/controls",
            "_model_module_version": "1.5.0",
            "_model_name": "HTMLModel",
            "_view_count": null,
            "_view_module": "@jupyter-widgets/controls",
            "_view_module_version": "1.5.0",
            "_view_name": "HTMLView",
            "description": "",
            "description_tooltip": null,
            "layout": "IPY_MODEL_4fcaaaabef83465eb2b9f8dc4b6acc4b",
            "placeholder": "​",
            "style": "IPY_MODEL_9d5e10f13fab48ecb76f38d204cdede5",
            "value": "Downloading: 100%"
          }
        },
        "9d243e0a73514419818c86332cca57ee": {
          "model_module": "@jupyter-widgets/controls",
          "model_name": "FloatProgressModel",
          "model_module_version": "1.5.0",
          "state": {
            "_dom_classes": [],
            "_model_module": "@jupyter-widgets/controls",
            "_model_module_version": "1.5.0",
            "_model_name": "FloatProgressModel",
            "_view_count": null,
            "_view_module": "@jupyter-widgets/controls",
            "_view_module_version": "1.5.0",
            "_view_name": "ProgressView",
            "bar_style": "success",
            "description": "",
            "description_tooltip": null,
            "layout": "IPY_MODEL_47002ac40cef4401b03bcd68473bfe1e",
            "max": 570,
            "min": 0,
            "orientation": "horizontal",
            "style": "IPY_MODEL_e1565bf839014446870def777df769d6",
            "value": 570
          }
        },
        "87ac8dcd4f714846ac2ed54755e31551": {
          "model_module": "@jupyter-widgets/controls",
          "model_name": "HTMLModel",
          "model_module_version": "1.5.0",
          "state": {
            "_dom_classes": [],
            "_model_module": "@jupyter-widgets/controls",
            "_model_module_version": "1.5.0",
            "_model_name": "HTMLModel",
            "_view_count": null,
            "_view_module": "@jupyter-widgets/controls",
            "_view_module_version": "1.5.0",
            "_view_name": "HTMLView",
            "description": "",
            "description_tooltip": null,
            "layout": "IPY_MODEL_7a1ecc36570b4a95ad5d372ec5aa5c32",
            "placeholder": "​",
            "style": "IPY_MODEL_d818f69b07db4713a203efd6b2f2c917",
            "value": " 570/570 [00:00&lt;00:00, 6.11kB/s]"
          }
        },
        "4fec389b8921401587959b1843b8d457": {
          "model_module": "@jupyter-widgets/base",
          "model_name": "LayoutModel",
          "model_module_version": "1.2.0",
          "state": {
            "_model_module": "@jupyter-widgets/base",
            "_model_module_version": "1.2.0",
            "_model_name": "LayoutModel",
            "_view_count": null,
            "_view_module": "@jupyter-widgets/base",
            "_view_module_version": "1.2.0",
            "_view_name": "LayoutView",
            "align_content": null,
            "align_items": null,
            "align_self": null,
            "border": null,
            "bottom": null,
            "display": null,
            "flex": null,
            "flex_flow": null,
            "grid_area": null,
            "grid_auto_columns": null,
            "grid_auto_flow": null,
            "grid_auto_rows": null,
            "grid_column": null,
            "grid_gap": null,
            "grid_row": null,
            "grid_template_areas": null,
            "grid_template_columns": null,
            "grid_template_rows": null,
            "height": null,
            "justify_content": null,
            "justify_items": null,
            "left": null,
            "margin": null,
            "max_height": null,
            "max_width": null,
            "min_height": null,
            "min_width": null,
            "object_fit": null,
            "object_position": null,
            "order": null,
            "overflow": null,
            "overflow_x": null,
            "overflow_y": null,
            "padding": null,
            "right": null,
            "top": null,
            "visibility": null,
            "width": null
          }
        },
        "4fcaaaabef83465eb2b9f8dc4b6acc4b": {
          "model_module": "@jupyter-widgets/base",
          "model_name": "LayoutModel",
          "model_module_version": "1.2.0",
          "state": {
            "_model_module": "@jupyter-widgets/base",
            "_model_module_version": "1.2.0",
            "_model_name": "LayoutModel",
            "_view_count": null,
            "_view_module": "@jupyter-widgets/base",
            "_view_module_version": "1.2.0",
            "_view_name": "LayoutView",
            "align_content": null,
            "align_items": null,
            "align_self": null,
            "border": null,
            "bottom": null,
            "display": null,
            "flex": null,
            "flex_flow": null,
            "grid_area": null,
            "grid_auto_columns": null,
            "grid_auto_flow": null,
            "grid_auto_rows": null,
            "grid_column": null,
            "grid_gap": null,
            "grid_row": null,
            "grid_template_areas": null,
            "grid_template_columns": null,
            "grid_template_rows": null,
            "height": null,
            "justify_content": null,
            "justify_items": null,
            "left": null,
            "margin": null,
            "max_height": null,
            "max_width": null,
            "min_height": null,
            "min_width": null,
            "object_fit": null,
            "object_position": null,
            "order": null,
            "overflow": null,
            "overflow_x": null,
            "overflow_y": null,
            "padding": null,
            "right": null,
            "top": null,
            "visibility": null,
            "width": null
          }
        },
        "9d5e10f13fab48ecb76f38d204cdede5": {
          "model_module": "@jupyter-widgets/controls",
          "model_name": "DescriptionStyleModel",
          "model_module_version": "1.5.0",
          "state": {
            "_model_module": "@jupyter-widgets/controls",
            "_model_module_version": "1.5.0",
            "_model_name": "DescriptionStyleModel",
            "_view_count": null,
            "_view_module": "@jupyter-widgets/base",
            "_view_module_version": "1.2.0",
            "_view_name": "StyleView",
            "description_width": ""
          }
        },
        "47002ac40cef4401b03bcd68473bfe1e": {
          "model_module": "@jupyter-widgets/base",
          "model_name": "LayoutModel",
          "model_module_version": "1.2.0",
          "state": {
            "_model_module": "@jupyter-widgets/base",
            "_model_module_version": "1.2.0",
            "_model_name": "LayoutModel",
            "_view_count": null,
            "_view_module": "@jupyter-widgets/base",
            "_view_module_version": "1.2.0",
            "_view_name": "LayoutView",
            "align_content": null,
            "align_items": null,
            "align_self": null,
            "border": null,
            "bottom": null,
            "display": null,
            "flex": null,
            "flex_flow": null,
            "grid_area": null,
            "grid_auto_columns": null,
            "grid_auto_flow": null,
            "grid_auto_rows": null,
            "grid_column": null,
            "grid_gap": null,
            "grid_row": null,
            "grid_template_areas": null,
            "grid_template_columns": null,
            "grid_template_rows": null,
            "height": null,
            "justify_content": null,
            "justify_items": null,
            "left": null,
            "margin": null,
            "max_height": null,
            "max_width": null,
            "min_height": null,
            "min_width": null,
            "object_fit": null,
            "object_position": null,
            "order": null,
            "overflow": null,
            "overflow_x": null,
            "overflow_y": null,
            "padding": null,
            "right": null,
            "top": null,
            "visibility": null,
            "width": null
          }
        },
        "e1565bf839014446870def777df769d6": {
          "model_module": "@jupyter-widgets/controls",
          "model_name": "ProgressStyleModel",
          "model_module_version": "1.5.0",
          "state": {
            "_model_module": "@jupyter-widgets/controls",
            "_model_module_version": "1.5.0",
            "_model_name": "ProgressStyleModel",
            "_view_count": null,
            "_view_module": "@jupyter-widgets/base",
            "_view_module_version": "1.2.0",
            "_view_name": "StyleView",
            "bar_color": null,
            "description_width": ""
          }
        },
        "7a1ecc36570b4a95ad5d372ec5aa5c32": {
          "model_module": "@jupyter-widgets/base",
          "model_name": "LayoutModel",
          "model_module_version": "1.2.0",
          "state": {
            "_model_module": "@jupyter-widgets/base",
            "_model_module_version": "1.2.0",
            "_model_name": "LayoutModel",
            "_view_count": null,
            "_view_module": "@jupyter-widgets/base",
            "_view_module_version": "1.2.0",
            "_view_name": "LayoutView",
            "align_content": null,
            "align_items": null,
            "align_self": null,
            "border": null,
            "bottom": null,
            "display": null,
            "flex": null,
            "flex_flow": null,
            "grid_area": null,
            "grid_auto_columns": null,
            "grid_auto_flow": null,
            "grid_auto_rows": null,
            "grid_column": null,
            "grid_gap": null,
            "grid_row": null,
            "grid_template_areas": null,
            "grid_template_columns": null,
            "grid_template_rows": null,
            "height": null,
            "justify_content": null,
            "justify_items": null,
            "left": null,
            "margin": null,
            "max_height": null,
            "max_width": null,
            "min_height": null,
            "min_width": null,
            "object_fit": null,
            "object_position": null,
            "order": null,
            "overflow": null,
            "overflow_x": null,
            "overflow_y": null,
            "padding": null,
            "right": null,
            "top": null,
            "visibility": null,
            "width": null
          }
        },
        "d818f69b07db4713a203efd6b2f2c917": {
          "model_module": "@jupyter-widgets/controls",
          "model_name": "DescriptionStyleModel",
          "model_module_version": "1.5.0",
          "state": {
            "_model_module": "@jupyter-widgets/controls",
            "_model_module_version": "1.5.0",
            "_model_name": "DescriptionStyleModel",
            "_view_count": null,
            "_view_module": "@jupyter-widgets/base",
            "_view_module_version": "1.2.0",
            "_view_name": "StyleView",
            "description_width": ""
          }
        },
        "76e61e8425b94f91a94db25f18dcf1ba": {
          "model_module": "@jupyter-widgets/controls",
          "model_name": "HBoxModel",
          "model_module_version": "1.5.0",
          "state": {
            "_dom_classes": [],
            "_model_module": "@jupyter-widgets/controls",
            "_model_module_version": "1.5.0",
            "_model_name": "HBoxModel",
            "_view_count": null,
            "_view_module": "@jupyter-widgets/controls",
            "_view_module_version": "1.5.0",
            "_view_name": "HBoxView",
            "box_style": "",
            "children": [
              "IPY_MODEL_e26941e9aed649f880efd436490d4972",
              "IPY_MODEL_a90a89bf8f974da880c68764202e5184",
              "IPY_MODEL_7af6d8b50da743ef939f773ebecfb910"
            ],
            "layout": "IPY_MODEL_7a2bb0dd8069456d984a70e0282e84f2"
          }
        },
        "e26941e9aed649f880efd436490d4972": {
          "model_module": "@jupyter-widgets/controls",
          "model_name": "HTMLModel",
          "model_module_version": "1.5.0",
          "state": {
            "_dom_classes": [],
            "_model_module": "@jupyter-widgets/controls",
            "_model_module_version": "1.5.0",
            "_model_name": "HTMLModel",
            "_view_count": null,
            "_view_module": "@jupyter-widgets/controls",
            "_view_module_version": "1.5.0",
            "_view_name": "HTMLView",
            "description": "",
            "description_tooltip": null,
            "layout": "IPY_MODEL_caba1d0fcbb14b2495f4538819247e96",
            "placeholder": "​",
            "style": "IPY_MODEL_fc64c31606b74ac1b276ac1587a25279",
            "value": "Downloading: 100%"
          }
        },
        "a90a89bf8f974da880c68764202e5184": {
          "model_module": "@jupyter-widgets/controls",
          "model_name": "FloatProgressModel",
          "model_module_version": "1.5.0",
          "state": {
            "_dom_classes": [],
            "_model_module": "@jupyter-widgets/controls",
            "_model_module_version": "1.5.0",
            "_model_name": "FloatProgressModel",
            "_view_count": null,
            "_view_module": "@jupyter-widgets/controls",
            "_view_module_version": "1.5.0",
            "_view_name": "ProgressView",
            "bar_style": "success",
            "description": "",
            "description_tooltip": null,
            "layout": "IPY_MODEL_ad375fde86b644dfae668b4afb81d3ae",
            "max": 536063208,
            "min": 0,
            "orientation": "horizontal",
            "style": "IPY_MODEL_c85ec13172494ea4b56a070a2aa7f259",
            "value": 536063208
          }
        },
        "7af6d8b50da743ef939f773ebecfb910": {
          "model_module": "@jupyter-widgets/controls",
          "model_name": "HTMLModel",
          "model_module_version": "1.5.0",
          "state": {
            "_dom_classes": [],
            "_model_module": "@jupyter-widgets/controls",
            "_model_module_version": "1.5.0",
            "_model_name": "HTMLModel",
            "_view_count": null,
            "_view_module": "@jupyter-widgets/controls",
            "_view_module_version": "1.5.0",
            "_view_name": "HTMLView",
            "description": "",
            "description_tooltip": null,
            "layout": "IPY_MODEL_69ea35e022e64868b1d92cc289d32d8b",
            "placeholder": "​",
            "style": "IPY_MODEL_00db05e162024f739215c53ad46fef11",
            "value": " 511M/511M [00:11&lt;00:00, 46.0MB/s]"
          }
        },
        "7a2bb0dd8069456d984a70e0282e84f2": {
          "model_module": "@jupyter-widgets/base",
          "model_name": "LayoutModel",
          "model_module_version": "1.2.0",
          "state": {
            "_model_module": "@jupyter-widgets/base",
            "_model_module_version": "1.2.0",
            "_model_name": "LayoutModel",
            "_view_count": null,
            "_view_module": "@jupyter-widgets/base",
            "_view_module_version": "1.2.0",
            "_view_name": "LayoutView",
            "align_content": null,
            "align_items": null,
            "align_self": null,
            "border": null,
            "bottom": null,
            "display": null,
            "flex": null,
            "flex_flow": null,
            "grid_area": null,
            "grid_auto_columns": null,
            "grid_auto_flow": null,
            "grid_auto_rows": null,
            "grid_column": null,
            "grid_gap": null,
            "grid_row": null,
            "grid_template_areas": null,
            "grid_template_columns": null,
            "grid_template_rows": null,
            "height": null,
            "justify_content": null,
            "justify_items": null,
            "left": null,
            "margin": null,
            "max_height": null,
            "max_width": null,
            "min_height": null,
            "min_width": null,
            "object_fit": null,
            "object_position": null,
            "order": null,
            "overflow": null,
            "overflow_x": null,
            "overflow_y": null,
            "padding": null,
            "right": null,
            "top": null,
            "visibility": null,
            "width": null
          }
        },
        "caba1d0fcbb14b2495f4538819247e96": {
          "model_module": "@jupyter-widgets/base",
          "model_name": "LayoutModel",
          "model_module_version": "1.2.0",
          "state": {
            "_model_module": "@jupyter-widgets/base",
            "_model_module_version": "1.2.0",
            "_model_name": "LayoutModel",
            "_view_count": null,
            "_view_module": "@jupyter-widgets/base",
            "_view_module_version": "1.2.0",
            "_view_name": "LayoutView",
            "align_content": null,
            "align_items": null,
            "align_self": null,
            "border": null,
            "bottom": null,
            "display": null,
            "flex": null,
            "flex_flow": null,
            "grid_area": null,
            "grid_auto_columns": null,
            "grid_auto_flow": null,
            "grid_auto_rows": null,
            "grid_column": null,
            "grid_gap": null,
            "grid_row": null,
            "grid_template_areas": null,
            "grid_template_columns": null,
            "grid_template_rows": null,
            "height": null,
            "justify_content": null,
            "justify_items": null,
            "left": null,
            "margin": null,
            "max_height": null,
            "max_width": null,
            "min_height": null,
            "min_width": null,
            "object_fit": null,
            "object_position": null,
            "order": null,
            "overflow": null,
            "overflow_x": null,
            "overflow_y": null,
            "padding": null,
            "right": null,
            "top": null,
            "visibility": null,
            "width": null
          }
        },
        "fc64c31606b74ac1b276ac1587a25279": {
          "model_module": "@jupyter-widgets/controls",
          "model_name": "DescriptionStyleModel",
          "model_module_version": "1.5.0",
          "state": {
            "_model_module": "@jupyter-widgets/controls",
            "_model_module_version": "1.5.0",
            "_model_name": "DescriptionStyleModel",
            "_view_count": null,
            "_view_module": "@jupyter-widgets/base",
            "_view_module_version": "1.2.0",
            "_view_name": "StyleView",
            "description_width": ""
          }
        },
        "ad375fde86b644dfae668b4afb81d3ae": {
          "model_module": "@jupyter-widgets/base",
          "model_name": "LayoutModel",
          "model_module_version": "1.2.0",
          "state": {
            "_model_module": "@jupyter-widgets/base",
            "_model_module_version": "1.2.0",
            "_model_name": "LayoutModel",
            "_view_count": null,
            "_view_module": "@jupyter-widgets/base",
            "_view_module_version": "1.2.0",
            "_view_name": "LayoutView",
            "align_content": null,
            "align_items": null,
            "align_self": null,
            "border": null,
            "bottom": null,
            "display": null,
            "flex": null,
            "flex_flow": null,
            "grid_area": null,
            "grid_auto_columns": null,
            "grid_auto_flow": null,
            "grid_auto_rows": null,
            "grid_column": null,
            "grid_gap": null,
            "grid_row": null,
            "grid_template_areas": null,
            "grid_template_columns": null,
            "grid_template_rows": null,
            "height": null,
            "justify_content": null,
            "justify_items": null,
            "left": null,
            "margin": null,
            "max_height": null,
            "max_width": null,
            "min_height": null,
            "min_width": null,
            "object_fit": null,
            "object_position": null,
            "order": null,
            "overflow": null,
            "overflow_x": null,
            "overflow_y": null,
            "padding": null,
            "right": null,
            "top": null,
            "visibility": null,
            "width": null
          }
        },
        "c85ec13172494ea4b56a070a2aa7f259": {
          "model_module": "@jupyter-widgets/controls",
          "model_name": "ProgressStyleModel",
          "model_module_version": "1.5.0",
          "state": {
            "_model_module": "@jupyter-widgets/controls",
            "_model_module_version": "1.5.0",
            "_model_name": "ProgressStyleModel",
            "_view_count": null,
            "_view_module": "@jupyter-widgets/base",
            "_view_module_version": "1.2.0",
            "_view_name": "StyleView",
            "bar_color": null,
            "description_width": ""
          }
        },
        "69ea35e022e64868b1d92cc289d32d8b": {
          "model_module": "@jupyter-widgets/base",
          "model_name": "LayoutModel",
          "model_module_version": "1.2.0",
          "state": {
            "_model_module": "@jupyter-widgets/base",
            "_model_module_version": "1.2.0",
            "_model_name": "LayoutModel",
            "_view_count": null,
            "_view_module": "@jupyter-widgets/base",
            "_view_module_version": "1.2.0",
            "_view_name": "LayoutView",
            "align_content": null,
            "align_items": null,
            "align_self": null,
            "border": null,
            "bottom": null,
            "display": null,
            "flex": null,
            "flex_flow": null,
            "grid_area": null,
            "grid_auto_columns": null,
            "grid_auto_flow": null,
            "grid_auto_rows": null,
            "grid_column": null,
            "grid_gap": null,
            "grid_row": null,
            "grid_template_areas": null,
            "grid_template_columns": null,
            "grid_template_rows": null,
            "height": null,
            "justify_content": null,
            "justify_items": null,
            "left": null,
            "margin": null,
            "max_height": null,
            "max_width": null,
            "min_height": null,
            "min_width": null,
            "object_fit": null,
            "object_position": null,
            "order": null,
            "overflow": null,
            "overflow_x": null,
            "overflow_y": null,
            "padding": null,
            "right": null,
            "top": null,
            "visibility": null,
            "width": null
          }
        },
        "00db05e162024f739215c53ad46fef11": {
          "model_module": "@jupyter-widgets/controls",
          "model_name": "DescriptionStyleModel",
          "model_module_version": "1.5.0",
          "state": {
            "_model_module": "@jupyter-widgets/controls",
            "_model_module_version": "1.5.0",
            "_model_name": "DescriptionStyleModel",
            "_view_count": null,
            "_view_module": "@jupyter-widgets/base",
            "_view_module_version": "1.2.0",
            "_view_name": "StyleView",
            "description_width": ""
          }
        }
      }
    }
  },
  "cells": [
    {
      "cell_type": "code",
      "source": [
        "!pip install transformers"
      ],
      "metadata": {
        "colab": {
          "base_uri": "https://localhost:8080/"
        },
        "id": "cB80cVA0xWU6",
        "outputId": "dcc1c66c-6e19-43ba-b5ad-805b94d5d4c7"
      },
      "execution_count": 1,
      "outputs": [
        {
          "output_type": "stream",
          "name": "stdout",
          "text": [
            "Collecting transformers\n",
            "  Downloading transformers-4.18.0-py3-none-any.whl (4.0 MB)\n",
            "\u001b[K     |████████████████████████████████| 4.0 MB 5.0 MB/s \n",
            "\u001b[?25hCollecting pyyaml>=5.1\n",
            "  Downloading PyYAML-6.0-cp37-cp37m-manylinux_2_5_x86_64.manylinux1_x86_64.manylinux_2_12_x86_64.manylinux2010_x86_64.whl (596 kB)\n",
            "\u001b[K     |████████████████████████████████| 596 kB 36.0 MB/s \n",
            "\u001b[?25hCollecting huggingface-hub<1.0,>=0.1.0\n",
            "  Downloading huggingface_hub-0.5.1-py3-none-any.whl (77 kB)\n",
            "\u001b[K     |████████████████████████████████| 77 kB 5.6 MB/s \n",
            "\u001b[?25hRequirement already satisfied: importlib-metadata in /usr/local/lib/python3.7/dist-packages (from transformers) (4.11.3)\n",
            "Collecting tokenizers!=0.11.3,<0.13,>=0.11.1\n",
            "  Downloading tokenizers-0.12.1-cp37-cp37m-manylinux_2_12_x86_64.manylinux2010_x86_64.whl (6.6 MB)\n",
            "\u001b[K     |████████████████████████████████| 6.6 MB 28.3 MB/s \n",
            "\u001b[?25hRequirement already satisfied: filelock in /usr/local/lib/python3.7/dist-packages (from transformers) (3.6.0)\n",
            "Requirement already satisfied: regex!=2019.12.17 in /usr/local/lib/python3.7/dist-packages (from transformers) (2019.12.20)\n",
            "Requirement already satisfied: numpy>=1.17 in /usr/local/lib/python3.7/dist-packages (from transformers) (1.21.6)\n",
            "Requirement already satisfied: requests in /usr/local/lib/python3.7/dist-packages (from transformers) (2.23.0)\n",
            "Requirement already satisfied: tqdm>=4.27 in /usr/local/lib/python3.7/dist-packages (from transformers) (4.64.0)\n",
            "Requirement already satisfied: packaging>=20.0 in /usr/local/lib/python3.7/dist-packages (from transformers) (21.3)\n",
            "Collecting sacremoses\n",
            "  Downloading sacremoses-0.0.53.tar.gz (880 kB)\n",
            "\u001b[K     |████████████████████████████████| 880 kB 55.2 MB/s \n",
            "\u001b[?25hRequirement already satisfied: typing-extensions>=3.7.4.3 in /usr/local/lib/python3.7/dist-packages (from huggingface-hub<1.0,>=0.1.0->transformers) (4.2.0)\n",
            "Requirement already satisfied: pyparsing!=3.0.5,>=2.0.2 in /usr/local/lib/python3.7/dist-packages (from packaging>=20.0->transformers) (3.0.8)\n",
            "Requirement already satisfied: zipp>=0.5 in /usr/local/lib/python3.7/dist-packages (from importlib-metadata->transformers) (3.8.0)\n",
            "Requirement already satisfied: certifi>=2017.4.17 in /usr/local/lib/python3.7/dist-packages (from requests->transformers) (2021.10.8)\n",
            "Requirement already satisfied: chardet<4,>=3.0.2 in /usr/local/lib/python3.7/dist-packages (from requests->transformers) (3.0.4)\n",
            "Requirement already satisfied: idna<3,>=2.5 in /usr/local/lib/python3.7/dist-packages (from requests->transformers) (2.10)\n",
            "Requirement already satisfied: urllib3!=1.25.0,!=1.25.1,<1.26,>=1.21.1 in /usr/local/lib/python3.7/dist-packages (from requests->transformers) (1.24.3)\n",
            "Requirement already satisfied: six in /usr/local/lib/python3.7/dist-packages (from sacremoses->transformers) (1.15.0)\n",
            "Requirement already satisfied: click in /usr/local/lib/python3.7/dist-packages (from sacremoses->transformers) (7.1.2)\n",
            "Requirement already satisfied: joblib in /usr/local/lib/python3.7/dist-packages (from sacremoses->transformers) (1.1.0)\n",
            "Building wheels for collected packages: sacremoses\n",
            "  Building wheel for sacremoses (setup.py) ... \u001b[?25l\u001b[?25hdone\n",
            "  Created wheel for sacremoses: filename=sacremoses-0.0.53-py3-none-any.whl size=895260 sha256=2a8b5fe99aa8edde847b53ba760e4cda210fbbe9eb6f21f573b468a1776f1b52\n",
            "  Stored in directory: /root/.cache/pip/wheels/87/39/dd/a83eeef36d0bf98e7a4d1933a4ad2d660295a40613079bafc9\n",
            "Successfully built sacremoses\n",
            "Installing collected packages: pyyaml, tokenizers, sacremoses, huggingface-hub, transformers\n",
            "  Attempting uninstall: pyyaml\n",
            "    Found existing installation: PyYAML 3.13\n",
            "    Uninstalling PyYAML-3.13:\n",
            "      Successfully uninstalled PyYAML-3.13\n",
            "Successfully installed huggingface-hub-0.5.1 pyyaml-6.0 sacremoses-0.0.53 tokenizers-0.12.1 transformers-4.18.0\n"
          ]
        }
      ]
    },
    {
      "cell_type": "code",
      "source": [
        "import json\n",
        "import numpy as np\n",
        "import matplotlib.pyplot as plt\n",
        "from transformers import BertTokenizer, TFBertModel\n",
        "from tensorflow.keras.preprocessing.text import Tokenizer\n",
        "from keras.preprocessing.sequence import pad_sequences\n",
        "from tensorflow.keras.layers import Dense, Dropout\n",
        "import tensorflow as tf\n",
        "from tensorflow.keras.callbacks import EarlyStopping, ModelCheckpoint\n",
        "from sklearn.metrics import classification_report, f1_score\n",
        "from sklearn.preprocessing import MultiLabelBinarizer\n",
        "from keras import backend as K"
      ],
      "metadata": {
        "id": "JvvAnUNHi3n7"
      },
      "execution_count": 2,
      "outputs": []
    },
    {
      "cell_type": "code",
      "source": [
        "!pip install --upgrade --no-cache-dir gdown"
      ],
      "metadata": {
        "colab": {
          "base_uri": "https://localhost:8080/"
        },
        "id": "yUsGYoMhf9AK",
        "outputId": "865c626e-94a4-4259-de4b-ff04e84301f3"
      },
      "execution_count": 5,
      "outputs": [
        {
          "output_type": "stream",
          "name": "stdout",
          "text": [
            "Requirement already satisfied: gdown in /usr/local/lib/python3.7/dist-packages (4.4.0)\n",
            "Requirement already satisfied: six in /usr/local/lib/python3.7/dist-packages (from gdown) (1.15.0)\n",
            "Requirement already satisfied: tqdm in /usr/local/lib/python3.7/dist-packages (from gdown) (4.64.0)\n",
            "Requirement already satisfied: filelock in /usr/local/lib/python3.7/dist-packages (from gdown) (3.6.0)\n",
            "Requirement already satisfied: requests[socks] in /usr/local/lib/python3.7/dist-packages (from gdown) (2.23.0)\n",
            "Requirement already satisfied: beautifulsoup4 in /usr/local/lib/python3.7/dist-packages (from gdown) (4.6.3)\n",
            "Requirement already satisfied: chardet<4,>=3.0.2 in /usr/local/lib/python3.7/dist-packages (from requests[socks]->gdown) (3.0.4)\n",
            "Requirement already satisfied: urllib3!=1.25.0,!=1.25.1,<1.26,>=1.21.1 in /usr/local/lib/python3.7/dist-packages (from requests[socks]->gdown) (1.24.3)\n",
            "Requirement already satisfied: idna<3,>=2.5 in /usr/local/lib/python3.7/dist-packages (from requests[socks]->gdown) (2.10)\n",
            "Requirement already satisfied: certifi>=2017.4.17 in /usr/local/lib/python3.7/dist-packages (from requests[socks]->gdown) (2021.10.8)\n",
            "Requirement already satisfied: PySocks!=1.5.7,>=1.5.6 in /usr/local/lib/python3.7/dist-packages (from requests[socks]->gdown) (1.7.1)\n"
          ]
        }
      ]
    },
    {
      "cell_type": "code",
      "source": [
        "# gpus = tf.config.list_physical_devices('GPU')\n",
        "\n",
        "# tf.config.set_logical_device_configuration(gpus[0], [tf.config.LogicalDeviceConfiguration(memory_limit=15000)])"
      ],
      "metadata": {
        "id": "JUKZmYSg9fGX"
      },
      "execution_count": 3,
      "outputs": []
    },
    {
      "cell_type": "code",
      "execution_count": 6,
      "metadata": {
        "colab": {
          "base_uri": "https://localhost:8080/"
        },
        "id": "hdHEIG9niX3t",
        "outputId": "d1e9a013-7e4f-46ca-f559-40b442bc3511"
      },
      "outputs": [
        {
          "output_type": "stream",
          "name": "stdout",
          "text": [
            "/usr/local/lib/python3.7/dist-packages/gdown/cli.py:131: FutureWarning: Option `--id` was deprecated in version 4.3.1 and will be removed in 5.0. You don't need to pass it anymore to use a file ID.\n",
            "  category=FutureWarning,\n",
            "Downloading...\n",
            "From: https://drive.google.com/uc?id=104TU-gdBAtalfRyaauuKaOobhGbB52Zf\n",
            "To: /content/data.zip\n",
            "100% 649k/649k [00:00<00:00, 79.3MB/s]\n"
          ]
        }
      ],
      "source": [
        "!gdown --id 104TU-gdBAtalfRyaauuKaOobhGbB52Zf"
      ]
    },
    {
      "cell_type": "code",
      "source": [
        "!unzip 'data.zip'"
      ],
      "metadata": {
        "colab": {
          "base_uri": "https://localhost:8080/"
        },
        "id": "Cr8ohndXkQ4Q",
        "outputId": "8e7308ac-c27a-4052-a401-299a8a063ed0"
      },
      "execution_count": 7,
      "outputs": [
        {
          "output_type": "stream",
          "name": "stdout",
          "text": [
            "Archive:  data.zip\n",
            "  inflating: simple-dstc2-trn.json   \n",
            "  inflating: simple-dstc2-tst.json   \n",
            "  inflating: simple-dstc2-val.json   \n",
            "  inflating: slot_vals.json          \n",
            "  inflating: ner_intent.json         \n",
            "  inflating: simple-dstc2-templates.txt  \n",
            "  inflating: ner_intent_test.json    \n",
            "  inflating: ner_intent_train.json   \n",
            "  inflating: ner_intent_valid.json   \n"
          ]
        }
      ]
    },
    {
      "cell_type": "code",
      "source": [
        "from google.colab import drive\n",
        "drive.mount('/content/drive')"
      ],
      "metadata": {
        "colab": {
          "base_uri": "https://localhost:8080/"
        },
        "id": "0vVxoJqk_Mij",
        "outputId": "b7309675-3d63-49ca-85c1-2be1c364ab09"
      },
      "execution_count": 3,
      "outputs": [
        {
          "output_type": "stream",
          "name": "stdout",
          "text": [
            "Mounted at /content/drive\n"
          ]
        }
      ]
    },
    {
      "cell_type": "code",
      "source": [
        "def read_json_file(PATH):\n",
        "\n",
        "  f = open (PATH, 'r')\n",
        "  data = json.loads(f.read())\n",
        "\n",
        "  sentences = []\n",
        "  nertags = []\n",
        "  intents = []\n",
        "\n",
        "  for key, value in data.items():\n",
        "    sentences.append(key)\n",
        "    nertags.append(' '.join(data[key]['NERTAGS']))\n",
        "    intents.append(data[key]['INTENTS'])\n",
        "\n",
        "  f.close()\n",
        "\n",
        "  return sentences, nertags, intents"
      ],
      "metadata": {
        "id": "sQCnIk0ohXVB"
      },
      "execution_count": 8,
      "outputs": []
    },
    {
      "cell_type": "code",
      "source": [
        "train_sentences, train_tags, train_intents = read_json_file('ner_intent_train.json')\n",
        "test_sentences, test_tags, test_intents = read_json_file('ner_intent_test.json')\n",
        "valid_sentences, valid_tags, valid_intents = read_json_file('ner_intent_valid.json')"
      ],
      "metadata": {
        "id": "HOuZdkd8utQs"
      },
      "execution_count": 9,
      "outputs": []
    },
    {
      "cell_type": "code",
      "source": [
        "bert_tokenizer = BertTokenizer.from_pretrained('bert-base-uncased')"
      ],
      "metadata": {
        "colab": {
          "base_uri": "https://localhost:8080/",
          "height": 113,
          "referenced_widgets": [
            "88615315155e45e2ae3315d4293bd8dc",
            "72d3c7ea11ae4e0abb1d313e2a3bf797",
            "df04e60e749045279e1ee67c125ea420",
            "3bddcb6235d44e4497af4bfd1bb58564",
            "f0c90c30899748759a655df5e50058eb",
            "e4d8f796eca343448b370d0e809a3293",
            "62f4e908f8c449f2a7dd86751db62ebf",
            "24a445a58bf74daebbe9d5cd42fdb27f",
            "4214899708694988b61bb02ceebba2bf",
            "12bdcff07d42474caf8823bb7ffa0e51",
            "0719375c792f4fe0996055363bfe3abc",
            "3aed6a3ad949439c8532cf841388b927",
            "643f53e7650348b7b836207e15a7eb39",
            "247459b9ee4d487380633825e4f68294",
            "f7e2742c451a4ccca40654e68cd6daa8",
            "70a757540068428db21a249b59c3d703",
            "32619532933e4cc3ba34d1f4f996d8f9",
            "5644e96c38124b798204cf023b975044",
            "004ab937fece436585e38ad0ffb2930b",
            "7c47eb027d814cb79b6fed7cc74f2fa5",
            "4db0e06f44ea45c99796328c954e2d8e",
            "d84b2e7b943c4958a3001428f82c1290",
            "65248d808cd3400ab7d2b1f7903d9489",
            "f78e25a37f6c4657add5e153d3b0fd59",
            "9d243e0a73514419818c86332cca57ee",
            "87ac8dcd4f714846ac2ed54755e31551",
            "4fec389b8921401587959b1843b8d457",
            "4fcaaaabef83465eb2b9f8dc4b6acc4b",
            "9d5e10f13fab48ecb76f38d204cdede5",
            "47002ac40cef4401b03bcd68473bfe1e",
            "e1565bf839014446870def777df769d6",
            "7a1ecc36570b4a95ad5d372ec5aa5c32",
            "d818f69b07db4713a203efd6b2f2c917"
          ]
        },
        "id": "dC6qFtICuOED",
        "outputId": "c495ad7e-49bb-4b70-d955-adf2265e5376"
      },
      "execution_count": 10,
      "outputs": [
        {
          "output_type": "display_data",
          "data": {
            "text/plain": [
              "Downloading:   0%|          | 0.00/226k [00:00<?, ?B/s]"
            ],
            "application/vnd.jupyter.widget-view+json": {
              "version_major": 2,
              "version_minor": 0,
              "model_id": "88615315155e45e2ae3315d4293bd8dc"
            }
          },
          "metadata": {}
        },
        {
          "output_type": "display_data",
          "data": {
            "text/plain": [
              "Downloading:   0%|          | 0.00/28.0 [00:00<?, ?B/s]"
            ],
            "application/vnd.jupyter.widget-view+json": {
              "version_major": 2,
              "version_minor": 0,
              "model_id": "3aed6a3ad949439c8532cf841388b927"
            }
          },
          "metadata": {}
        },
        {
          "output_type": "display_data",
          "data": {
            "text/plain": [
              "Downloading:   0%|          | 0.00/570 [00:00<?, ?B/s]"
            ],
            "application/vnd.jupyter.widget-view+json": {
              "version_major": 2,
              "version_minor": 0,
              "model_id": "65248d808cd3400ab7d2b1f7903d9489"
            }
          },
          "metadata": {}
        }
      ]
    },
    {
      "cell_type": "code",
      "source": [
        "def encode_text(tokenizer, text_sequences, max_len):\n",
        "  input_ids=[]\n",
        "  attention_masks=[]\n",
        "\n",
        "  for sent in text_sequences:\n",
        "    bert_inp = tokenizer.encode_plus(sent, add_special_tokens = True, max_length=max_len, pad_to_max_length = True, \n",
        "                                        return_attention_mask = True)\n",
        "    input_ids.append(bert_inp['input_ids'])\n",
        "    attention_masks.append(bert_inp['attention_mask'])\n",
        "\n",
        "  input_ids = np.asarray(input_ids)\n",
        "  attention_masks = np.array(attention_masks)\n",
        "\n",
        "  return input_ids, attention_masks"
      ],
      "metadata": {
        "id": "6BZVDm82x3Uv"
      },
      "execution_count": 11,
      "outputs": []
    },
    {
      "cell_type": "code",
      "source": [
        "sent_length = {}\n",
        "\n",
        "for sent in train_sentences:\n",
        "  res = len(sent)\n",
        "  if res in sent_length:\n",
        "    sent_length[res]+=1\n",
        "  else:\n",
        "    sent_length[res]=1"
      ],
      "metadata": {
        "id": "P55vrOVuzdPP"
      },
      "execution_count": 12,
      "outputs": []
    },
    {
      "cell_type": "code",
      "source": [
        "x = [key for key in sent_length]\n",
        "y = [sent_length[key] for key in sent_length]\n",
        "\n",
        "plt.scatter(x, y)\n",
        "plt.show()"
      ],
      "metadata": {
        "colab": {
          "base_uri": "https://localhost:8080/",
          "height": 265
        },
        "id": "FEDpP5UD0jf6",
        "outputId": "dc591136-cffa-4219-be4e-785172e04b23"
      },
      "execution_count": 13,
      "outputs": [
        {
          "output_type": "display_data",
          "data": {
            "text/plain": [
              "<Figure size 432x288 with 1 Axes>"
            ],
            "image/png": "[encoded data removed]"
          },
          "metadata": {
            "needs_background": "light"
          }
        }
      ]
    },
    {
      "cell_type": "code",
      "source": [
        "max_length = 30\n",
        "\n",
        "train_inp, train_mask = encode_text(bert_tokenizer, train_sentences, max_length)\n",
        "test_inp, test_mask = encode_text(bert_tokenizer, test_sentences, max_length)\n",
        "valid_inp, valid_mask = encode_text(bert_tokenizer, valid_sentences, max_length)"
      ],
      "metadata": {
        "colab": {
          "base_uri": "https://localhost:8080/"
        },
        "id": "3lkYiXYU02MM",
        "outputId": "10ed2154-6525-4f63-e478-08d9afa9e1c4"
      },
      "execution_count": 14,
      "outputs": [
        {
          "output_type": "stream",
          "name": "stderr",
          "text": [
            "Truncation was not explicitly activated but `max_length` is provided a specific value, please use `truncation=True` to explicitly truncate examples to max length. Defaulting to 'longest_first' truncation strategy. If you encode pairs of sequences (GLUE-style) with the tokenizer you can select this strategy more precisely by providing a specific strategy to `truncation`.\n",
            "/usr/local/lib/python3.7/dist-packages/transformers/tokenization_utils_base.py:2269: FutureWarning: The `pad_to_max_length` argument is deprecated and will be removed in a future version, use `padding=True` or `padding='longest'` to pad to the longest sequence in the batch, or use `padding='max_length'` to pad to a max length. In this case, you can give a specific length with `max_length` (e.g. `max_length=45`) or leave max_length to None to pad to the maximal input size of the model (e.g. 512 for Bert).\n",
            "  FutureWarning,\n"
          ]
        }
      ]
    },
    {
      "cell_type": "code",
      "source": [
        "seq_out_tokenizer = Tokenizer(filters='', oov_token=\"UNK\", lower=False)\n",
        "seq_out_tokenizer.fit_on_texts(train_tags)"
      ],
      "metadata": {
        "id": "HqHgtoQR1sjj"
      },
      "execution_count": 15,
      "outputs": []
    },
    {
      "cell_type": "code",
      "source": [
        "seq_out_tokenizer.word_index['PAD'] = 0\n",
        "seq_out_tokenizer.index_word[0] = 'PAD'"
      ],
      "metadata": {
        "id": "SDDDfmY-OLd9"
      },
      "execution_count": 16,
      "outputs": []
    },
    {
      "cell_type": "code",
      "source": [
        "word_index = seq_out_tokenizer.word_index"
      ],
      "metadata": {
        "id": "brEcQBk-3itI"
      },
      "execution_count": 17,
      "outputs": []
    },
    {
      "cell_type": "code",
      "source": [
        "word_index"
      ],
      "metadata": {
        "colab": {
          "base_uri": "https://localhost:8080/"
        },
        "id": "lYJ7vlWt-Dbq",
        "outputId": "0fd2a456-bb2d-4f17-8276-2647822a2aea"
      },
      "execution_count": 18,
      "outputs": [
        {
          "output_type": "execute_result",
          "data": {
            "text/plain": [
              "{'B-area': 4,\n",
              " 'B-food': 3,\n",
              " 'B-name': 11,\n",
              " 'B-pricerange': 5,\n",
              " 'B-this': 8,\n",
              " 'I-area': 10,\n",
              " 'I-food': 6,\n",
              " 'I-name': 12,\n",
              " 'I-pricerange': 7,\n",
              " 'I-this': 9,\n",
              " 'O': 2,\n",
              " 'PAD': 0,\n",
              " 'UNK': 1}"
            ]
          },
          "metadata": {},
          "execution_count": 18
        }
      ]
    },
    {
      "cell_type": "code",
      "source": [
        "slot_num = len(word_index)"
      ],
      "metadata": {
        "id": "jsn1ceDcXQ7y"
      },
      "execution_count": 19,
      "outputs": []
    },
    {
      "cell_type": "code",
      "source": [
        "train_slots_tokenized = seq_out_tokenizer.texts_to_sequences(train_tags)\n",
        "test_slots_tokenized = seq_out_tokenizer.texts_to_sequences(test_tags)\n",
        "valid_slots_tokenized = seq_out_tokenizer.texts_to_sequences(valid_tags)"
      ],
      "metadata": {
        "id": "lildKf4iPMRb"
      },
      "execution_count": 20,
      "outputs": []
    },
    {
      "cell_type": "code",
      "source": [
        "def padding_slots(tokenized_slots, max_len):\n",
        "\n",
        "  final = np.zeros(shape=(len(tokenized_slots),max_len), dtype='int32')\n",
        "\n",
        "  for i,slot in enumerate(tokenized_slots):\n",
        "    final[i, 1:len(slot)+1] = slot\n",
        "  return final"
      ],
      "metadata": {
        "id": "cSFKFX3UeLzW"
      },
      "execution_count": 21,
      "outputs": []
    },
    {
      "cell_type": "code",
      "source": [
        "train_slots = padding_slots(train_slots_tokenized, max_length)\n",
        "valid_slots = padding_slots(valid_slots_tokenized, max_length)\n",
        "test_slots = padding_slots(test_slots_tokenized, max_length)"
      ],
      "metadata": {
        "id": "DNERzsWCeRtg"
      },
      "execution_count": 22,
      "outputs": []
    },
    {
      "cell_type": "markdown",
      "source": [
        "#**Q1**"
      ],
      "metadata": {
        "id": "1vEMQLTQiIXs"
      }
    },
    {
      "cell_type": "code",
      "source": [
        "class MetricsCallback(tf.keras.callbacks.Callback):\n",
        "    def __init__(self):\n",
        "        super(MetricsCallback, self).__init__()\n",
        "    def  on_train_begin(self,logs={}):\n",
        "      self.f1_macro=[]\n",
        "    def on_epoch_end(self, epoch, logs=None):\n",
        "      train_preds = self.model.predict([train_inp, train_mask])\n",
        "      pred = train_preds.reshape(train_preds.shape[0]*train_preds.shape[1], train_preds.shape[2])\n",
        "      y_pred = [np.argmax(elem) for elem in pred]\n",
        "      y_true = train_slots.reshape(train_slots.shape[0]*train_slots.shape[1])\n",
        "      score=f1_score(y_true, y_pred, average='macro')\n",
        "      self.f1_macro.append(score)\n",
        "      print(\" F1 macro :\",score)\n",
        "\n",
        "metrics=MetricsCallback()"
      ],
      "metadata": {
        "id": "HmnywIwo6WXf"
      },
      "execution_count": 23,
      "outputs": []
    },
    {
      "cell_type": "code",
      "source": [
        "bert = TFBertModel.from_pretrained('bert-base-uncased')\n",
        "\n",
        "input_ids = tf.keras.layers.Input(shape=(max_length,), name='input_ids', dtype='int32')\n",
        "mask = tf.keras.layers.Input(shape=(max_length,), name='attention_mask', dtype='int32')\n",
        "\n",
        "embeddings = bert(input_ids, attention_mask=mask)[0]\n",
        "y = tf.keras.layers.Dense(slot_num, activation='softmax', name='outputs')(embeddings)\n",
        "\n",
        "slotfilling_model = tf.keras.Model(inputs=[input_ids, mask], outputs=y)\n",
        "\n",
        "optimizer = tf.keras.optimizers.Adam(learning_rate=2e-5,epsilon=1e-08)\n",
        "\n",
        "slotfilling_model.compile(optimizer=optimizer,\n",
        "              loss='sparse_categorical_crossentropy',\n",
        "              metrics=['accuracy'])\n",
        "\n",
        "slotfilling_model.summary()"
      ],
      "metadata": {
        "colab": {
          "base_uri": "https://localhost:8080/",
          "height": 657,
          "referenced_widgets": [
            "76e61e8425b94f91a94db25f18dcf1ba",
            "e26941e9aed649f880efd436490d4972",
            "a90a89bf8f974da880c68764202e5184",
            "7af6d8b50da743ef939f773ebecfb910",
            "7a2bb0dd8069456d984a70e0282e84f2",
            "caba1d0fcbb14b2495f4538819247e96",
            "fc64c31606b74ac1b276ac1587a25279",
            "ad375fde86b644dfae668b4afb81d3ae",
            "c85ec13172494ea4b56a070a2aa7f259",
            "69ea35e022e64868b1d92cc289d32d8b",
            "00db05e162024f739215c53ad46fef11"
          ]
        },
        "id": "8a9tlfkrIfhW",
        "outputId": "55bd0dff-fd73-433d-a960-ae3ad27d18e5"
      },
      "execution_count": 24,
      "outputs": [
        {
          "output_type": "display_data",
          "data": {
            "text/plain": [
              "Downloading:   0%|          | 0.00/511M [00:00<?, ?B/s]"
            ],
            "application/vnd.jupyter.widget-view+json": {
              "version_major": 2,
              "version_minor": 0,
              "model_id": "76e61e8425b94f91a94db25f18dcf1ba"
            }
          },
          "metadata": {}
        },
        {
          "output_type": "stream",
          "name": "stderr",
          "text": [
            "Some layers from the model checkpoint at bert-base-uncased were not used when initializing TFBertModel: ['nsp___cls', 'mlm___cls']\n",
            "- This IS expected if you are initializing TFBertModel from the checkpoint of a model trained on another task or with another architecture (e.g. initializing a BertForSequenceClassification model from a BertForPreTraining model).\n",
            "- This IS NOT expected if you are initializing TFBertModel from the checkpoint of a model that you expect to be exactly identical (initializing a BertForSequenceClassification model from a BertForSequenceClassification model).\n",
            "All the layers of TFBertModel were initialized from the model checkpoint at bert-base-uncased.\n",
            "If your task is similar to the task the model of the checkpoint was trained on, you can already use TFBertModel for predictions without further training.\n"
          ]
        },
        {
          "output_type": "stream",
          "name": "stdout",
          "text": [
            "Model: \"model\"\n",
            "__________________________________________________________________________________________________\n",
            " Layer (type)                   Output Shape         Param #     Connected to                     \n",
            "==================================================================================================\n",
            " input_ids (InputLayer)         [(None, 30)]         0           []                               \n",
            "                                                                                                  \n",
            " attention_mask (InputLayer)    [(None, 30)]         0           []                               \n",
            "                                                                                                  \n",
            " tf_bert_model (TFBertModel)    TFBaseModelOutputWi  109482240   ['input_ids[0][0]',              \n",
            "                                thPoolingAndCrossAt               'attention_mask[0][0]']         \n",
            "                                tentions(last_hidde                                               \n",
            "                                n_state=(None, 30,                                                \n",
            "                                768),                                                             \n",
            "                                 pooler_output=(Non                                               \n",
            "                                e, 768),                                                          \n",
            "                                 past_key_values=No                                               \n",
            "                                ne, hidden_states=N                                               \n",
            "                                one, attentions=Non                                               \n",
            "                                e, cross_attentions                                               \n",
            "                                =None)                                                            \n",
            "                                                                                                  \n",
            " outputs (Dense)                (None, 30, 13)       9997        ['tf_bert_model[0][0]']          \n",
            "                                                                                                  \n",
            "==================================================================================================\n",
            "Total params: 109,492,237\n",
            "Trainable params: 109,492,237\n",
            "Non-trainable params: 0\n",
            "__________________________________________________________________________________________________\n"
          ]
        }
      ]
    },
    {
      "cell_type": "code",
      "source": [
        "cp_callback = ModelCheckpoint('/content/drive/MyDrive/HW-08/slotfilling-{epoch:03d}--{val_accuracy:03f}.h5', \n",
        "                             verbose=1, monitor='val_accuracy',save_best_only=True, \n",
        "                             save_weights_only=True, mode='max') "
      ],
      "metadata": {
        "id": "WqxdJgjA6_-b"
      },
      "execution_count": 94,
      "outputs": []
    },
    {
      "cell_type": "code",
      "source": [
        "history = slotfilling_model.fit([train_inp, train_mask], train_slots,\n",
        "                       batch_size = 32,\n",
        "                       epochs = 2,\n",
        "                       validation_data = ([valid_inp, valid_mask], valid_slots), callbacks=[cp_callback, metrics])"
      ],
      "metadata": {
        "colab": {
          "base_uri": "https://localhost:8080/"
        },
        "id": "G-QyRmo17CLb",
        "outputId": "898d631f-da68-4850-9823-923a3473bdd2"
      },
      "execution_count": 95,
      "outputs": [
        {
          "output_type": "stream",
          "name": "stdout",
          "text": [
            "Epoch 1/2\n",
            "WARNING:tensorflow:Gradients do not exist for variables ['tf_bert_model_10/bert/pooler/dense/kernel:0', 'tf_bert_model_10/bert/pooler/dense/bias:0'] when minimizing the loss. If you're using `model.compile()`, did you forget to provide a `loss`argument?\n",
            "WARNING:tensorflow:Gradients do not exist for variables ['tf_bert_model_10/bert/pooler/dense/kernel:0', 'tf_bert_model_10/bert/pooler/dense/bias:0'] when minimizing the loss. If you're using `model.compile()`, did you forget to provide a `loss`argument?\n",
            "61/61 [==============================] - ETA: 0s - loss: 0.2364 - accuracy: 0.9408\n",
            "Epoch 1: val_accuracy improved from -inf to 0.98680, saving model to /content/drive/MyDrive/HW-08/slotfilling1-001--0.986796.h5\n",
            " F1 macro : 0.41361387517789305\n",
            "61/61 [==============================] - 73s 875ms/step - loss: 0.2364 - accuracy: 0.9408 - val_loss: 0.0479 - val_accuracy: 0.9868\n",
            "Epoch 2/2\n",
            "61/61 [==============================] - ETA: 0s - loss: 0.0455 - accuracy: 0.9887\n",
            "Epoch 2: val_accuracy improved from 0.98680 to 0.99049, saving model to /content/drive/MyDrive/HW-08/slotfilling1-002--0.990489.h5\n",
            " F1 macro : 0.5355074041242577\n",
            "61/61 [==============================] - 46s 754ms/step - loss: 0.0455 - accuracy: 0.9887 - val_loss: 0.0319 - val_accuracy: 0.9905\n"
          ]
        }
      ]
    },
    {
      "cell_type": "markdown",
      "source": [
        "load slot filling model"
      ],
      "metadata": {
        "id": "lZxp23zgMZnH"
      }
    },
    {
      "cell_type": "code",
      "source": [
        "!gdown --id 1-9BM3skqw8pLJvzp0Sh3BgL4jiSUQ12T"
      ],
      "metadata": {
        "colab": {
          "base_uri": "https://localhost:8080/"
        },
        "id": "SvB83-kGVDk9",
        "outputId": "61803be8-79ff-44b6-aee7-83ed56d958cc"
      },
      "execution_count": 25,
      "outputs": [
        {
          "output_type": "stream",
          "name": "stdout",
          "text": [
            "/usr/local/lib/python3.7/dist-packages/gdown/cli.py:131: FutureWarning: Option `--id` was deprecated in version 4.3.1 and will be removed in 5.0. You don't need to pass it anymore to use a file ID.\n",
            "  category=FutureWarning,\n",
            "Downloading...\n",
            "From: https://drive.google.com/uc?id=1-9BM3skqw8pLJvzp0Sh3BgL4jiSUQ12T\n",
            "To: /content/slotfilling-001--0.985042.h5\n",
            "100% 438M/438M [00:05<00:00, 79.9MB/s]\n"
          ]
        }
      ]
    },
    {
      "cell_type": "code",
      "source": [
        "slotfilling_model.load_weights('slotfilling-001--0.985042.h5')"
      ],
      "metadata": {
        "id": "ev8qiho5Xbef"
      },
      "execution_count": 26,
      "outputs": []
    },
    {
      "cell_type": "code",
      "source": [
        "slotfilling_model.evaluate([test_inp, test_mask], test_slots)"
      ],
      "metadata": {
        "colab": {
          "base_uri": "https://localhost:8080/"
        },
        "id": "t1_N4PxiMhPZ",
        "outputId": "a075091e-a8b7-439e-f706-41899ff0b0cf"
      },
      "execution_count": null,
      "outputs": [
        {
          "output_type": "stream",
          "name": "stdout",
          "text": [
            "44/44 [==============================] - 14s 166ms/step - loss: 0.0534 - accuracy: 0.9865\n"
          ]
        },
        {
          "output_type": "execute_result",
          "data": {
            "text/plain": [
              "[0.05341685935854912, 0.9864838719367981]"
            ]
          },
          "metadata": {},
          "execution_count": 26
        }
      ]
    },
    {
      "cell_type": "code",
      "source": [
        "test_preds = slotfilling_model.predict([test_inp, test_mask])\n",
        "pred = test_preds.reshape(test_preds.shape[0]*test_preds.shape[1], test_preds.shape[2])\n",
        "test_predicted_tags = [np.argmax(elem) for elem in pred]"
      ],
      "metadata": {
        "id": "hHzx5vxbB1JY"
      },
      "execution_count": null,
      "outputs": []
    },
    {
      "cell_type": "code",
      "source": [
        "test_tags = test_slots.reshape(test_slots.shape[0]*test_slots.shape[1])"
      ],
      "metadata": {
        "id": "_aydCoJldoWo"
      },
      "execution_count": null,
      "outputs": []
    },
    {
      "cell_type": "code",
      "source": [
        "print(classification_report(test_predicted_tags, test_tags))"
      ],
      "metadata": {
        "colab": {
          "base_uri": "https://localhost:8080/"
        },
        "id": "V-LTcW2XgveF",
        "outputId": "155b49eb-157d-4848-99f3-af07a9bb8433"
      },
      "execution_count": null,
      "outputs": [
        {
          "output_type": "stream",
          "name": "stdout",
          "text": [
            "              precision    recall  f1-score   support\n",
            "\n",
            "           0       0.99      1.00      1.00     33573\n",
            "           2       0.99      0.94      0.96      6869\n",
            "           3       0.93      0.88      0.90       604\n",
            "           4       0.86      0.97      0.91       282\n",
            "           5       0.92      0.96      0.94       252\n",
            "           6       0.00      0.00      0.00         0\n",
            "           7       0.00      0.00      0.00         0\n",
            "           8       0.00      0.00      0.00         0\n",
            "           9       0.00      0.00      0.00         0\n",
            "          10       0.00      0.00      0.00         0\n",
            "          11       0.00      0.00      0.00         0\n",
            "          12       0.00      0.00      0.00         0\n",
            "\n",
            "    accuracy                           0.99     41580\n",
            "   macro avg       0.39      0.39      0.39     41580\n",
            "weighted avg       0.99      0.99      0.99     41580\n",
            "\n"
          ]
        },
        {
          "output_type": "stream",
          "name": "stderr",
          "text": [
            "/usr/local/lib/python3.7/dist-packages/sklearn/metrics/_classification.py:1318: UndefinedMetricWarning: Recall and F-score are ill-defined and being set to 0.0 in labels with no true samples. Use `zero_division` parameter to control this behavior.\n",
            "  _warn_prf(average, modifier, msg_start, len(result))\n",
            "/usr/local/lib/python3.7/dist-packages/sklearn/metrics/_classification.py:1318: UndefinedMetricWarning: Recall and F-score are ill-defined and being set to 0.0 in labels with no true samples. Use `zero_division` parameter to control this behavior.\n",
            "  _warn_prf(average, modifier, msg_start, len(result))\n",
            "/usr/local/lib/python3.7/dist-packages/sklearn/metrics/_classification.py:1318: UndefinedMetricWarning: Recall and F-score are ill-defined and being set to 0.0 in labels with no true samples. Use `zero_division` parameter to control this behavior.\n",
            "  _warn_prf(average, modifier, msg_start, len(result))\n"
          ]
        }
      ]
    },
    {
      "cell_type": "code",
      "source": [
        "def fill_slots(sentence):\n",
        "  slots_dict = {}\n",
        "  sent_inp, sent_mask = encode_text(bert_tokenizer, [sentence], max_length)\n",
        "  predicted_slots = slotfilling_model.predict([sent_inp, sent_mask])\n",
        "  slots = np.argmax(predicted_slots, axis=-1)\n",
        "  slots = [seq_out_tokenizer.index_word[w_idx] for w_idx in slots[0]]\n",
        "  sent_len = len(sentence.split())+1\n",
        "  ner_tags = slots[1:sent_len]\n",
        "  indices = [i for i in range(len(ner_tags)) if ner_tags[i] != 'O']\n",
        "  for i in indices:\n",
        "    slot = ner_tags[i].split('-')[1]\n",
        "    slots_dict[slot] = sentence.split()[i]\n",
        "\n",
        "  return slots_dict, ner_tags"
      ],
      "metadata": {
        "id": "SyG3fc-PMqas"
      },
      "execution_count": 27,
      "outputs": []
    },
    {
      "cell_type": "code",
      "source": [
        "!gdown --id 1-ay5mBPEFuzHGZpDnBJIA5e_ONAIcvjW"
      ],
      "metadata": {
        "colab": {
          "base_uri": "https://localhost:8080/"
        },
        "id": "2KKiPmfIU073",
        "outputId": "c908301d-9325-4f2e-e597-e8372de78e0b"
      },
      "execution_count": 28,
      "outputs": [
        {
          "output_type": "stream",
          "name": "stdout",
          "text": [
            "/usr/local/lib/python3.7/dist-packages/gdown/cli.py:131: FutureWarning: Option `--id` was deprecated in version 4.3.1 and will be removed in 5.0. You don't need to pass it anymore to use a file ID.\n",
            "  category=FutureWarning,\n",
            "Downloading...\n",
            "From: https://drive.google.com/uc?id=1-ay5mBPEFuzHGZpDnBJIA5e_ONAIcvjW\n",
            "To: /content/slot-test.txt\n",
            "100% 587/587 [00:00<00:00, 583kB/s]\n"
          ]
        }
      ]
    },
    {
      "cell_type": "code",
      "source": [
        "with open('slot-test.txt') as f:\n",
        "  for sent in f:\n",
        "    sent = sent.strip()\n",
        "    slots, ner_tags = fill_slots(sent)\n",
        "    print(sent)\n",
        "    print(ner_tags)\n",
        "    print(slots)\n",
        "    print('==========================================')"
      ],
      "metadata": {
        "colab": {
          "base_uri": "https://localhost:8080/"
        },
        "id": "pZk7nECe3wTl",
        "outputId": "53debadf-3238-48e0-8d3e-dfb9a66c8626"
      },
      "execution_count": 64,
      "outputs": [
        {
          "output_type": "stream",
          "name": "stderr",
          "text": [
            "/usr/local/lib/python3.7/dist-packages/transformers/tokenization_utils_base.py:2269: FutureWarning: The `pad_to_max_length` argument is deprecated and will be removed in a future version, use `padding=True` or `padding='longest'` to pad to the longest sequence in the batch, or use `padding='max_length'` to pad to a max length. In this case, you can give a specific length with `max_length` (e.g. `max_length=45`) or leave max_length to None to pad to the maximal input size of the model (e.g. 512 for Bert).\n",
            "  FutureWarning,\n"
          ]
        },
        {
          "output_type": "stream",
          "name": "stdout",
          "text": [
            "cheap restaurant\n",
            "['B-pricerange', 'O']\n",
            "{'pricerange': 'cheap'}\n",
            "==========================================\n",
            "im looking for a cheap restaurant in the south part of town\n",
            "['O', 'O', 'O', 'O', 'B-pricerange', 'O', 'O', 'O', 'B-area', 'O', 'O', 'O']\n",
            "{'pricerange': 'cheap', 'area': 'south'}\n",
            "==========================================\n",
            "i want a restaurant in the north part of town\n",
            "['O', 'O', 'O', 'O', 'O', 'O', 'B-area', 'O', 'O', 'O']\n",
            "{'area': 'north'}\n",
            "==========================================\n",
            "what is the address and phone number\n",
            "['O', 'O', 'O', 'O', 'O', 'O', 'O']\n",
            "{}\n",
            "==========================================\n",
            "i got to find a cheap restaurant that serves mexican food\n",
            "['O', 'O', 'O', 'O', 'O', 'B-pricerange', 'O', 'O', 'O', 'B-food', 'O']\n",
            "{'pricerange': 'cheap', 'food': 'mexican'}\n",
            "==========================================\n",
            "okay and uh whats their phone number please\n",
            "['O', 'O', 'O', 'O', 'O', 'O', 'O', 'O']\n",
            "{}\n",
            "==========================================\n",
            "i would like to find a moderately priced restaurant in the north part of town\n",
            "['O', 'O', 'O', 'O', 'O', 'O', 'B-pricerange', 'O', 'O', 'O', 'O', 'B-area', 'O', 'O', 'O']\n",
            "{'pricerange': 'moderately', 'area': 'north'}\n",
            "==========================================\n",
            "im looking for a restaurant that serves unusual food\n",
            "['O', 'O', 'O', 'O', 'O', 'O', 'O', 'B-food', 'O']\n",
            "{'food': 'unusual'}\n",
            "==========================================\n",
            "im looking for a restaurant in the north part of town serving jamaican food\n",
            "['O', 'O', 'O', 'O', 'O', 'O', 'O', 'B-area', 'O', 'O', 'O', 'O', 'B-food', 'O']\n",
            "{'area': 'north', 'food': 'jamaican'}\n",
            "==========================================\n",
            "im looking for a restaurant in the south part of town\n",
            "['O', 'O', 'O', 'O', 'O', 'O', 'O', 'B-area', 'O', 'O', 'O']\n",
            "{'area': 'south'}\n",
            "==========================================\n",
            "how about gastro pub type of food\n",
            "['O', 'O', 'B-food', 'O', 'O', 'O', 'O']\n",
            "{'food': 'gastro'}\n",
            "==========================================\n",
            "down town\n",
            "['O', 'O']\n",
            "{}\n",
            "==========================================\n",
            "downtown\n",
            "['O']\n",
            "{}\n",
            "==========================================\n"
          ]
        }
      ]
    },
    {
      "cell_type": "markdown",
      "source": [
        "#**Q2**"
      ],
      "metadata": {
        "id": "OiiRAwXmiEh-"
      }
    },
    {
      "cell_type": "code",
      "source": [
        "intent_list = []\n",
        "\n",
        "for x in train_intents:\n",
        "  for y in x:\n",
        "    if y not in intent_list:\n",
        "      intent_list.append(y)\n",
        "\n",
        "for x in valid_intents:\n",
        "  for y in x:\n",
        "    if y not in intent_list:\n",
        "      intent_list.append(y)\n",
        "\n",
        "for x in test_intents:\n",
        "  for y in x:\n",
        "    if y not in intent_list:\n",
        "      intent_list.append(y)"
      ],
      "metadata": {
        "id": "Rk_X3NV44dbn"
      },
      "execution_count": 29,
      "outputs": []
    },
    {
      "cell_type": "code",
      "source": [
        "mlb = MultiLabelBinarizer(classes=intent_list)\n",
        "train_labels = mlb.fit_transform(train_intents)\n",
        "valid_labels = mlb.fit_transform(valid_intents)\n",
        "test_labels = mlb.fit_transform(test_intents)"
      ],
      "metadata": {
        "id": "G-J-JICW3VmJ"
      },
      "execution_count": 30,
      "outputs": []
    },
    {
      "cell_type": "code",
      "source": [
        "intent_num = len(intent_list)"
      ],
      "metadata": {
        "id": "lE7YpWu5gzJc"
      },
      "execution_count": 31,
      "outputs": []
    },
    {
      "cell_type": "code",
      "source": [
        "class MetricsCallback(tf.keras.callbacks.Callback):\n",
        "    def __init__(self):\n",
        "        super(MetricsCallback, self).__init__()\n",
        "    def  on_train_begin(self,logs={}):\n",
        "      self.f1_macro=[]\n",
        "    def on_epoch_end(self, epoch, logs=None):\n",
        "      y_pred = intent_model.predict([train_inp, train_mask])\n",
        "      y_pred[y_pred>=0.5] = 1\n",
        "      y_pred[y_pred<0.5] = 0\n",
        "      score=f1_score(train_labels, y_pred, average='macro')\n",
        "      self.f1_macro.append(score)\n",
        "      print(\" F1 macro :\",score)\n",
        "\n",
        "metrics=MetricsCallback()"
      ],
      "metadata": {
        "id": "HAZeHeS_771B"
      },
      "execution_count": 32,
      "outputs": []
    },
    {
      "cell_type": "code",
      "source": [
        "bert = TFBertModel.from_pretrained('bert-base-uncased')\n",
        "\n",
        "input_ids = tf.keras.layers.Input(shape=(max_length,), name='input_ids', dtype='int32')\n",
        "mask = tf.keras.layers.Input(shape=(max_length,), name='attention_mask', dtype='int32')\n",
        "\n",
        "embeddings = bert(input_ids, attention_mask=mask)[1]\n",
        "x = tf.keras.layers.Dropout(0.2)(embeddings)\n",
        "y = tf.keras.layers.Dense(intent_num, activation='sigmoid', name='outputs')(x)\n",
        "\n",
        "intent_model = tf.keras.Model(inputs=[input_ids, mask], outputs=y)\n",
        "\n",
        "optimizer = tf.keras.optimizers.Adam(learning_rate=2e-5,epsilon=1e-08)\n",
        "\n",
        "intent_model.compile(optimizer=optimizer,\n",
        "              loss='binary_crossentropy',\n",
        "              metrics=['accuracy'])\n",
        "\n",
        "intent_model.summary()"
      ],
      "metadata": {
        "colab": {
          "base_uri": "https://localhost:8080/"
        },
        "id": "LYQwEQGs1C5F",
        "outputId": "78f8a859-609a-47f1-f33d-47e403ad8352"
      },
      "execution_count": 33,
      "outputs": [
        {
          "output_type": "stream",
          "name": "stderr",
          "text": [
            "Some layers from the model checkpoint at bert-base-uncased were not used when initializing TFBertModel: ['nsp___cls', 'mlm___cls']\n",
            "- This IS expected if you are initializing TFBertModel from the checkpoint of a model trained on another task or with another architecture (e.g. initializing a BertForSequenceClassification model from a BertForPreTraining model).\n",
            "- This IS NOT expected if you are initializing TFBertModel from the checkpoint of a model that you expect to be exactly identical (initializing a BertForSequenceClassification model from a BertForSequenceClassification model).\n",
            "All the layers of TFBertModel were initialized from the model checkpoint at bert-base-uncased.\n",
            "If your task is similar to the task the model of the checkpoint was trained on, you can already use TFBertModel for predictions without further training.\n"
          ]
        },
        {
          "output_type": "stream",
          "name": "stdout",
          "text": [
            "Model: \"model_1\"\n",
            "__________________________________________________________________________________________________\n",
            " Layer (type)                   Output Shape         Param #     Connected to                     \n",
            "==================================================================================================\n",
            " input_ids (InputLayer)         [(None, 30)]         0           []                               \n",
            "                                                                                                  \n",
            " attention_mask (InputLayer)    [(None, 30)]         0           []                               \n",
            "                                                                                                  \n",
            " tf_bert_model_1 (TFBertModel)  TFBaseModelOutputWi  109482240   ['input_ids[0][0]',              \n",
            "                                thPoolingAndCrossAt               'attention_mask[0][0]']         \n",
            "                                tentions(last_hidde                                               \n",
            "                                n_state=(None, 30,                                                \n",
            "                                768),                                                             \n",
            "                                 pooler_output=(Non                                               \n",
            "                                e, 768),                                                          \n",
            "                                 past_key_values=No                                               \n",
            "                                ne, hidden_states=N                                               \n",
            "                                one, attentions=Non                                               \n",
            "                                e, cross_attentions                                               \n",
            "                                =None)                                                            \n",
            "                                                                                                  \n",
            " dropout_74 (Dropout)           (None, 768)          0           ['tf_bert_model_1[0][1]']        \n",
            "                                                                                                  \n",
            " outputs (Dense)                (None, 29)           22301       ['dropout_74[0][0]']             \n",
            "                                                                                                  \n",
            "==================================================================================================\n",
            "Total params: 109,504,541\n",
            "Trainable params: 109,504,541\n",
            "Non-trainable params: 0\n",
            "__________________________________________________________________________________________________\n"
          ]
        }
      ]
    },
    {
      "cell_type": "code",
      "source": [
        "cp_callback = ModelCheckpoint('/content/drive/MyDrive/HW-08/intent-detection-{epoch:03d}--{val_accuracy:03f}.h5', \n",
        "                             verbose=1, monitor='val_accuracy',save_best_only=True, \n",
        "                             save_weights_only=True, mode='max') "
      ],
      "metadata": {
        "id": "VWIWsReu6Es7"
      },
      "execution_count": null,
      "outputs": []
    },
    {
      "cell_type": "code",
      "source": [
        "history = intent_model.fit([train_inp, train_mask], train_labels,\n",
        "                       batch_size = 32,\n",
        "                       epochs = 20,\n",
        "                       validation_data = ([valid_inp, valid_mask], valid_labels), callbacks=[cp_callback, metrics])"
      ],
      "metadata": {
        "colab": {
          "base_uri": "https://localhost:8080/"
        },
        "id": "pZRlgTmr8o49",
        "outputId": "91edb507-eee5-473c-e5db-704f5a920cbb"
      },
      "execution_count": 102,
      "outputs": [
        {
          "output_type": "stream",
          "name": "stdout",
          "text": [
            "Epoch 1/20\n",
            "61/61 [==============================] - ETA: 0s - loss: 0.3305 - accuracy: 0.1562\n",
            "Epoch 1: val_accuracy did not improve from 0.99049\n",
            " F1 macro : 0.03687446286140655\n",
            "61/61 [==============================] - 69s 819ms/step - loss: 0.3305 - accuracy: 0.1562 - val_loss: 0.1576 - val_accuracy: 0.2909\n",
            "Epoch 2/20\n"
          ]
        },
        {
          "output_type": "stream",
          "name": "stderr",
          "text": [
            "/usr/local/lib/python3.7/dist-packages/sklearn/metrics/_classification.py:1580: UndefinedMetricWarning: F-score is ill-defined and being set to 0.0 in labels with no true nor predicted samples. Use `zero_division` parameter to control this behavior.\n",
            "  _warn_prf(average, \"true nor predicted\", \"F-score is\", len(true_sum))\n"
          ]
        },
        {
          "output_type": "stream",
          "name": "stdout",
          "text": [
            "61/61 [==============================] - ETA: 0s - loss: 0.1420 - accuracy: 0.3714\n",
            "Epoch 2: val_accuracy did not improve from 0.99049\n",
            " F1 macro : 0.09331331911028905\n",
            "61/61 [==============================] - 42s 698ms/step - loss: 0.1420 - accuracy: 0.3714 - val_loss: 0.1076 - val_accuracy: 0.4252\n",
            "Epoch 3/20\n"
          ]
        },
        {
          "output_type": "stream",
          "name": "stderr",
          "text": [
            "/usr/local/lib/python3.7/dist-packages/sklearn/metrics/_classification.py:1580: UndefinedMetricWarning: F-score is ill-defined and being set to 0.0 in labels with no true nor predicted samples. Use `zero_division` parameter to control this behavior.\n",
            "  _warn_prf(average, \"true nor predicted\", \"F-score is\", len(true_sum))\n"
          ]
        },
        {
          "output_type": "stream",
          "name": "stdout",
          "text": [
            "61/61 [==============================] - ETA: 0s - loss: 0.1026 - accuracy: 0.5008\n",
            "Epoch 3: val_accuracy did not improve from 0.99049\n",
            " F1 macro : 0.16426197996587746\n",
            "61/61 [==============================] - 42s 697ms/step - loss: 0.1026 - accuracy: 0.5008 - val_loss: 0.0808 - val_accuracy: 0.6406\n",
            "Epoch 4/20\n"
          ]
        },
        {
          "output_type": "stream",
          "name": "stderr",
          "text": [
            "/usr/local/lib/python3.7/dist-packages/sklearn/metrics/_classification.py:1580: UndefinedMetricWarning: F-score is ill-defined and being set to 0.0 in labels with no true nor predicted samples. Use `zero_division` parameter to control this behavior.\n",
            "  _warn_prf(average, \"true nor predicted\", \"F-score is\", len(true_sum))\n"
          ]
        },
        {
          "output_type": "stream",
          "name": "stdout",
          "text": [
            "61/61 [==============================] - ETA: 0s - loss: 0.0790 - accuracy: 0.6368\n",
            "Epoch 4: val_accuracy did not improve from 0.99049\n",
            " F1 macro : 0.24118186083175727\n",
            "61/61 [==============================] - 42s 699ms/step - loss: 0.0790 - accuracy: 0.6368 - val_loss: 0.0630 - val_accuracy: 0.7327\n",
            "Epoch 5/20\n"
          ]
        },
        {
          "output_type": "stream",
          "name": "stderr",
          "text": [
            "/usr/local/lib/python3.7/dist-packages/sklearn/metrics/_classification.py:1580: UndefinedMetricWarning: F-score is ill-defined and being set to 0.0 in labels with no true nor predicted samples. Use `zero_division` parameter to control this behavior.\n",
            "  _warn_prf(average, \"true nor predicted\", \"F-score is\", len(true_sum))\n"
          ]
        },
        {
          "output_type": "stream",
          "name": "stdout",
          "text": [
            "61/61 [==============================] - ETA: 0s - loss: 0.0626 - accuracy: 0.7082\n",
            "Epoch 5: val_accuracy did not improve from 0.99049\n",
            " F1 macro : 0.3351487667714173\n",
            "61/61 [==============================] - 43s 712ms/step - loss: 0.0626 - accuracy: 0.7082 - val_loss: 0.0524 - val_accuracy: 0.7576\n",
            "Epoch 6/20\n"
          ]
        },
        {
          "output_type": "stream",
          "name": "stderr",
          "text": [
            "/usr/local/lib/python3.7/dist-packages/sklearn/metrics/_classification.py:1580: UndefinedMetricWarning: F-score is ill-defined and being set to 0.0 in labels with no true nor predicted samples. Use `zero_division` parameter to control this behavior.\n",
            "  _warn_prf(average, \"true nor predicted\", \"F-score is\", len(true_sum))\n"
          ]
        },
        {
          "output_type": "stream",
          "name": "stdout",
          "text": [
            "61/61 [==============================] - ETA: 0s - loss: 0.0508 - accuracy: 0.7439\n",
            "Epoch 6: val_accuracy did not improve from 0.99049\n",
            " F1 macro : 0.38929934970285496\n",
            "61/61 [==============================] - 45s 738ms/step - loss: 0.0508 - accuracy: 0.7439 - val_loss: 0.0440 - val_accuracy: 0.8442\n",
            "Epoch 7/20\n"
          ]
        },
        {
          "output_type": "stream",
          "name": "stderr",
          "text": [
            "/usr/local/lib/python3.7/dist-packages/sklearn/metrics/_classification.py:1580: UndefinedMetricWarning: F-score is ill-defined and being set to 0.0 in labels with no true nor predicted samples. Use `zero_division` parameter to control this behavior.\n",
            "  _warn_prf(average, \"true nor predicted\", \"F-score is\", len(true_sum))\n"
          ]
        },
        {
          "output_type": "stream",
          "name": "stdout",
          "text": [
            "61/61 [==============================] - ETA: 0s - loss: 0.0418 - accuracy: 0.7594\n",
            "Epoch 7: val_accuracy did not improve from 0.99049\n",
            " F1 macro : 0.43156774537599746\n",
            "61/61 [==============================] - 45s 740ms/step - loss: 0.0418 - accuracy: 0.7594 - val_loss: 0.0382 - val_accuracy: 0.8199\n",
            "Epoch 8/20\n"
          ]
        },
        {
          "output_type": "stream",
          "name": "stderr",
          "text": [
            "/usr/local/lib/python3.7/dist-packages/sklearn/metrics/_classification.py:1580: UndefinedMetricWarning: F-score is ill-defined and being set to 0.0 in labels with no true nor predicted samples. Use `zero_division` parameter to control this behavior.\n",
            "  _warn_prf(average, \"true nor predicted\", \"F-score is\", len(true_sum))\n"
          ]
        },
        {
          "output_type": "stream",
          "name": "stdout",
          "text": [
            "61/61 [==============================] - ETA: 0s - loss: 0.0348 - accuracy: 0.7832\n",
            "Epoch 8: val_accuracy did not improve from 0.99049\n",
            " F1 macro : 0.5156499118671741\n",
            "61/61 [==============================] - 43s 705ms/step - loss: 0.0348 - accuracy: 0.7832 - val_loss: 0.0351 - val_accuracy: 0.7645\n",
            "Epoch 9/20\n"
          ]
        },
        {
          "output_type": "stream",
          "name": "stderr",
          "text": [
            "/usr/local/lib/python3.7/dist-packages/sklearn/metrics/_classification.py:1580: UndefinedMetricWarning: F-score is ill-defined and being set to 0.0 in labels with no true nor predicted samples. Use `zero_division` parameter to control this behavior.\n",
            "  _warn_prf(average, \"true nor predicted\", \"F-score is\", len(true_sum))\n"
          ]
        },
        {
          "output_type": "stream",
          "name": "stdout",
          "text": [
            "61/61 [==============================] - ETA: 0s - loss: 0.0299 - accuracy: 0.7719\n",
            "Epoch 9: val_accuracy did not improve from 0.99049\n",
            " F1 macro : 0.5394311578836987\n",
            "61/61 [==============================] - 42s 701ms/step - loss: 0.0299 - accuracy: 0.7719 - val_loss: 0.0312 - val_accuracy: 0.8359\n",
            "Epoch 10/20\n"
          ]
        },
        {
          "output_type": "stream",
          "name": "stderr",
          "text": [
            "/usr/local/lib/python3.7/dist-packages/sklearn/metrics/_classification.py:1580: UndefinedMetricWarning: F-score is ill-defined and being set to 0.0 in labels with no true nor predicted samples. Use `zero_division` parameter to control this behavior.\n",
            "  _warn_prf(average, \"true nor predicted\", \"F-score is\", len(true_sum))\n"
          ]
        },
        {
          "output_type": "stream",
          "name": "stdout",
          "text": [
            "61/61 [==============================] - ETA: 0s - loss: 0.0259 - accuracy: 0.7807\n",
            "Epoch 10: val_accuracy did not improve from 0.99049\n",
            " F1 macro : 0.5652440072795717\n",
            "61/61 [==============================] - 42s 699ms/step - loss: 0.0259 - accuracy: 0.7807 - val_loss: 0.0281 - val_accuracy: 0.7964\n",
            "Epoch 11/20\n"
          ]
        },
        {
          "output_type": "stream",
          "name": "stderr",
          "text": [
            "/usr/local/lib/python3.7/dist-packages/sklearn/metrics/_classification.py:1580: UndefinedMetricWarning: F-score is ill-defined and being set to 0.0 in labels with no true nor predicted samples. Use `zero_division` parameter to control this behavior.\n",
            "  _warn_prf(average, \"true nor predicted\", \"F-score is\", len(true_sum))\n"
          ]
        },
        {
          "output_type": "stream",
          "name": "stdout",
          "text": [
            "61/61 [==============================] - ETA: 0s - loss: 0.0223 - accuracy: 0.8008\n",
            "Epoch 11: val_accuracy did not improve from 0.99049\n",
            " F1 macro : 0.6086237253283592\n",
            "61/61 [==============================] - 42s 697ms/step - loss: 0.0223 - accuracy: 0.8008 - val_loss: 0.0265 - val_accuracy: 0.8116\n",
            "Epoch 12/20\n"
          ]
        },
        {
          "output_type": "stream",
          "name": "stderr",
          "text": [
            "/usr/local/lib/python3.7/dist-packages/sklearn/metrics/_classification.py:1580: UndefinedMetricWarning: F-score is ill-defined and being set to 0.0 in labels with no true nor predicted samples. Use `zero_division` parameter to control this behavior.\n",
            "  _warn_prf(average, \"true nor predicted\", \"F-score is\", len(true_sum))\n"
          ]
        },
        {
          "output_type": "stream",
          "name": "stdout",
          "text": [
            "61/61 [==============================] - ETA: 0s - loss: 0.0200 - accuracy: 0.8044\n",
            "Epoch 12: val_accuracy did not improve from 0.99049\n",
            " F1 macro : 0.6472248780505578\n",
            "61/61 [==============================] - 42s 696ms/step - loss: 0.0200 - accuracy: 0.8044 - val_loss: 0.0255 - val_accuracy: 0.8296\n",
            "Epoch 13/20\n"
          ]
        },
        {
          "output_type": "stream",
          "name": "stderr",
          "text": [
            "/usr/local/lib/python3.7/dist-packages/sklearn/metrics/_classification.py:1580: UndefinedMetricWarning: F-score is ill-defined and being set to 0.0 in labels with no true nor predicted samples. Use `zero_division` parameter to control this behavior.\n",
            "  _warn_prf(average, \"true nor predicted\", \"F-score is\", len(true_sum))\n"
          ]
        },
        {
          "output_type": "stream",
          "name": "stdout",
          "text": [
            "61/61 [==============================] - ETA: 0s - loss: 0.0174 - accuracy: 0.8029\n",
            "Epoch 13: val_accuracy did not improve from 0.99049\n",
            " F1 macro : 0.6389385029756328\n",
            "61/61 [==============================] - 42s 695ms/step - loss: 0.0174 - accuracy: 0.8029 - val_loss: 0.0241 - val_accuracy: 0.7735\n",
            "Epoch 14/20\n"
          ]
        },
        {
          "output_type": "stream",
          "name": "stderr",
          "text": [
            "/usr/local/lib/python3.7/dist-packages/sklearn/metrics/_classification.py:1580: UndefinedMetricWarning: F-score is ill-defined and being set to 0.0 in labels with no true nor predicted samples. Use `zero_division` parameter to control this behavior.\n",
            "  _warn_prf(average, \"true nor predicted\", \"F-score is\", len(true_sum))\n"
          ]
        },
        {
          "output_type": "stream",
          "name": "stdout",
          "text": [
            "61/61 [==============================] - ETA: 0s - loss: 0.0157 - accuracy: 0.8153\n",
            "Epoch 14: val_accuracy did not improve from 0.99049\n",
            " F1 macro : 0.6957984026767984\n",
            "61/61 [==============================] - 42s 695ms/step - loss: 0.0157 - accuracy: 0.8153 - val_loss: 0.0230 - val_accuracy: 0.7548\n",
            "Epoch 15/20\n"
          ]
        },
        {
          "output_type": "stream",
          "name": "stderr",
          "text": [
            "/usr/local/lib/python3.7/dist-packages/sklearn/metrics/_classification.py:1580: UndefinedMetricWarning: F-score is ill-defined and being set to 0.0 in labels with no true nor predicted samples. Use `zero_division` parameter to control this behavior.\n",
            "  _warn_prf(average, \"true nor predicted\", \"F-score is\", len(true_sum))\n"
          ]
        },
        {
          "output_type": "stream",
          "name": "stdout",
          "text": [
            "61/61 [==============================] - ETA: 0s - loss: 0.0140 - accuracy: 0.7977\n",
            "Epoch 15: val_accuracy did not improve from 0.99049\n",
            " F1 macro : 0.6935417692519831\n",
            "61/61 [==============================] - 42s 695ms/step - loss: 0.0140 - accuracy: 0.7977 - val_loss: 0.0217 - val_accuracy: 0.7749\n",
            "Epoch 16/20\n"
          ]
        },
        {
          "output_type": "stream",
          "name": "stderr",
          "text": [
            "/usr/local/lib/python3.7/dist-packages/sklearn/metrics/_classification.py:1580: UndefinedMetricWarning: F-score is ill-defined and being set to 0.0 in labels with no true nor predicted samples. Use `zero_division` parameter to control this behavior.\n",
            "  _warn_prf(average, \"true nor predicted\", \"F-score is\", len(true_sum))\n"
          ]
        },
        {
          "output_type": "stream",
          "name": "stdout",
          "text": [
            "61/61 [==============================] - ETA: 0s - loss: 0.0129 - accuracy: 0.8081\n",
            "Epoch 16: val_accuracy did not improve from 0.99049\n",
            " F1 macro : 0.701592483301466\n",
            "61/61 [==============================] - 42s 697ms/step - loss: 0.0129 - accuracy: 0.8081 - val_loss: 0.0215 - val_accuracy: 0.8130\n",
            "Epoch 17/20\n"
          ]
        },
        {
          "output_type": "stream",
          "name": "stderr",
          "text": [
            "/usr/local/lib/python3.7/dist-packages/sklearn/metrics/_classification.py:1580: UndefinedMetricWarning: F-score is ill-defined and being set to 0.0 in labels with no true nor predicted samples. Use `zero_division` parameter to control this behavior.\n",
            "  _warn_prf(average, \"true nor predicted\", \"F-score is\", len(true_sum))\n"
          ]
        },
        {
          "output_type": "stream",
          "name": "stdout",
          "text": [
            "61/61 [==============================] - ETA: 0s - loss: 0.0117 - accuracy: 0.8081\n",
            "Epoch 17: val_accuracy did not improve from 0.99049\n",
            " F1 macro : 0.6948462028953226\n",
            "61/61 [==============================] - 42s 697ms/step - loss: 0.0117 - accuracy: 0.8081 - val_loss: 0.0223 - val_accuracy: 0.7576\n",
            "Epoch 18/20\n"
          ]
        },
        {
          "output_type": "stream",
          "name": "stderr",
          "text": [
            "/usr/local/lib/python3.7/dist-packages/sklearn/metrics/_classification.py:1580: UndefinedMetricWarning: F-score is ill-defined and being set to 0.0 in labels with no true nor predicted samples. Use `zero_division` parameter to control this behavior.\n",
            "  _warn_prf(average, \"true nor predicted\", \"F-score is\", len(true_sum))\n"
          ]
        },
        {
          "output_type": "stream",
          "name": "stdout",
          "text": [
            "61/61 [==============================] - ETA: 0s - loss: 0.0108 - accuracy: 0.8091\n",
            "Epoch 18: val_accuracy did not improve from 0.99049\n",
            " F1 macro : 0.7230117852466171\n",
            "61/61 [==============================] - 42s 695ms/step - loss: 0.0108 - accuracy: 0.8091 - val_loss: 0.0216 - val_accuracy: 0.7756\n",
            "Epoch 19/20\n"
          ]
        },
        {
          "output_type": "stream",
          "name": "stderr",
          "text": [
            "/usr/local/lib/python3.7/dist-packages/sklearn/metrics/_classification.py:1580: UndefinedMetricWarning: F-score is ill-defined and being set to 0.0 in labels with no true nor predicted samples. Use `zero_division` parameter to control this behavior.\n",
            "  _warn_prf(average, \"true nor predicted\", \"F-score is\", len(true_sum))\n"
          ]
        },
        {
          "output_type": "stream",
          "name": "stdout",
          "text": [
            "61/61 [==============================] - ETA: 0s - loss: 0.0100 - accuracy: 0.8039\n",
            "Epoch 19: val_accuracy did not improve from 0.99049\n",
            " F1 macro : 0.7556010745644478\n",
            "61/61 [==============================] - 42s 695ms/step - loss: 0.0100 - accuracy: 0.8039 - val_loss: 0.0210 - val_accuracy: 0.7715\n",
            "Epoch 20/20\n"
          ]
        },
        {
          "output_type": "stream",
          "name": "stderr",
          "text": [
            "/usr/local/lib/python3.7/dist-packages/sklearn/metrics/_classification.py:1580: UndefinedMetricWarning: F-score is ill-defined and being set to 0.0 in labels with no true nor predicted samples. Use `zero_division` parameter to control this behavior.\n",
            "  _warn_prf(average, \"true nor predicted\", \"F-score is\", len(true_sum))\n"
          ]
        },
        {
          "output_type": "stream",
          "name": "stdout",
          "text": [
            "61/61 [==============================] - ETA: 0s - loss: 0.0095 - accuracy: 0.8013\n",
            "Epoch 20: val_accuracy did not improve from 0.99049\n",
            " F1 macro : 0.769259172379041\n",
            "61/61 [==============================] - 42s 697ms/step - loss: 0.0095 - accuracy: 0.8013 - val_loss: 0.0206 - val_accuracy: 0.7368\n"
          ]
        },
        {
          "output_type": "stream",
          "name": "stderr",
          "text": [
            "/usr/local/lib/python3.7/dist-packages/sklearn/metrics/_classification.py:1580: UndefinedMetricWarning: F-score is ill-defined and being set to 0.0 in labels with no true nor predicted samples. Use `zero_division` parameter to control this behavior.\n",
            "  _warn_prf(average, \"true nor predicted\", \"F-score is\", len(true_sum))\n"
          ]
        }
      ]
    },
    {
      "cell_type": "markdown",
      "source": [
        "load intent detection model"
      ],
      "metadata": {
        "id": "u83Q9IjbPwvN"
      }
    },
    {
      "cell_type": "code",
      "source": [
        "!gdown --id 10GABV2PiF6KxSbQW2coCe-KUBzv8LNDL"
      ],
      "metadata": {
        "colab": {
          "base_uri": "https://localhost:8080/"
        },
        "id": "W8XzD2uVDJXm",
        "outputId": "95ee6914-14a0-413f-f913-35ff79bd1d6f"
      },
      "execution_count": 38,
      "outputs": [
        {
          "output_type": "stream",
          "name": "stdout",
          "text": [
            "/usr/local/lib/python3.7/dist-packages/gdown/cli.py:131: FutureWarning: Option `--id` was deprecated in version 4.3.1 and will be removed in 5.0. You don't need to pass it anymore to use a file ID.\n",
            "  category=FutureWarning,\n",
            "Downloading...\n",
            "From: https://drive.google.com/uc?id=10GABV2PiF6KxSbQW2coCe-KUBzv8LNDL\n",
            "To: /content/intent-detection-012--0.847645.h5\n",
            "100% 438M/438M [00:02<00:00, 204MB/s]\n"
          ]
        }
      ]
    },
    {
      "cell_type": "code",
      "source": [
        "intent_model.load_weights('intent-detection-012--0.847645.h5')"
      ],
      "metadata": {
        "id": "l56CGEbXDBoD"
      },
      "execution_count": 39,
      "outputs": []
    },
    {
      "cell_type": "code",
      "source": [
        "intent_model.evaluate([test_inp, test_mask], test_labels)"
      ],
      "metadata": {
        "colab": {
          "base_uri": "https://localhost:8080/"
        },
        "id": "Ev1a3Zq9P12R",
        "outputId": "b7b4d584-bf46-4723-ebcf-761acae55231"
      },
      "execution_count": null,
      "outputs": [
        {
          "output_type": "stream",
          "name": "stdout",
          "text": [
            "44/44 [==============================] - 9s 73ms/step - loss: 0.0242 - accuracy: 0.8492\n"
          ]
        },
        {
          "output_type": "execute_result",
          "data": {
            "text/plain": [
              "[0.024186089634895325, 0.8492063283920288]"
            ]
          },
          "metadata": {},
          "execution_count": 41
        }
      ]
    },
    {
      "cell_type": "code",
      "source": [
        "preds = intent_model.predict([test_inp, test_mask])\n",
        "preds[preds>=0.5] = 1\n",
        "preds[preds<0.5] = 0"
      ],
      "metadata": {
        "id": "_PhSmaWk4X_j"
      },
      "execution_count": 90,
      "outputs": []
    },
    {
      "cell_type": "code",
      "source": [
        "print(classification_report(preds, test_labels))"
      ],
      "metadata": {
        "colab": {
          "base_uri": "https://localhost:8080/"
        },
        "id": "kD3KSK6Y4t9D",
        "outputId": "bb12eb49-de6e-4b9d-e6ef-52e335f18d24"
      },
      "execution_count": 91,
      "outputs": [
        {
          "output_type": "stream",
          "name": "stdout",
          "text": [
            "              precision    recall  f1-score   support\n",
            "\n",
            "           0       1.00      0.98      0.99       261\n",
            "           1       0.73      0.92      0.81        24\n",
            "           2       0.99      0.99      0.99       313\n",
            "           3       1.00      0.97      0.98       125\n",
            "           4       1.00      1.00      1.00       120\n",
            "           5       0.96      0.75      0.84        36\n",
            "           6       0.97      0.97      0.97        40\n",
            "           7       0.99      0.96      0.98       548\n",
            "           8       0.86      0.89      0.87        96\n",
            "           9       0.80      1.00      0.89         4\n",
            "          10       1.00      0.90      0.95        21\n",
            "          11       0.75      1.00      0.86        18\n",
            "          12       0.84      0.97      0.90        32\n",
            "          13       0.94      0.84      0.89       130\n",
            "          14       0.88      1.00      0.94        23\n",
            "          15       1.00      1.00      1.00        28\n",
            "          16       1.00      1.00      1.00        37\n",
            "          17       0.00      0.00      0.00         0\n",
            "          18       0.95      0.97      0.96        40\n",
            "          19       1.00      0.67      0.80         3\n",
            "          20       1.00      0.88      0.94        17\n",
            "          21       0.00      0.00      0.00         0\n",
            "          22       0.00      0.00      0.00         0\n",
            "          23       0.00      0.00      0.00         0\n",
            "          24       0.00      0.00      0.00         0\n",
            "          25       0.00      0.00      0.00         0\n",
            "          26       0.00      0.00      0.00         0\n",
            "          27       0.00      0.00      0.00         0\n",
            "          28       0.00      0.00      0.00         0\n",
            "\n",
            "   micro avg       0.96      0.96      0.96      1916\n",
            "   macro avg       0.64      0.64      0.64      1916\n",
            "weighted avg       0.97      0.96      0.96      1916\n",
            " samples avg       0.95      0.94      0.94      1916\n",
            "\n"
          ]
        },
        {
          "output_type": "stream",
          "name": "stderr",
          "text": [
            "/usr/local/lib/python3.7/dist-packages/sklearn/metrics/_classification.py:1318: UndefinedMetricWarning: Precision and F-score are ill-defined and being set to 0.0 in labels with no predicted samples. Use `zero_division` parameter to control this behavior.\n",
            "  _warn_prf(average, modifier, msg_start, len(result))\n",
            "/usr/local/lib/python3.7/dist-packages/sklearn/metrics/_classification.py:1318: UndefinedMetricWarning: Recall and F-score are ill-defined and being set to 0.0 in labels with no true samples. Use `zero_division` parameter to control this behavior.\n",
            "  _warn_prf(average, modifier, msg_start, len(result))\n",
            "/usr/local/lib/python3.7/dist-packages/sklearn/metrics/_classification.py:1318: UndefinedMetricWarning: Recall and F-score are ill-defined and being set to 0.0 in samples with no true labels. Use `zero_division` parameter to control this behavior.\n",
            "  _warn_prf(average, modifier, msg_start, len(result))\n"
          ]
        }
      ]
    },
    {
      "cell_type": "code",
      "source": [
        "!gdown --id 101uOTEhpm7t3Y4iIPpA_isGUHGKXafsA"
      ],
      "metadata": {
        "id": "BrnM0g5D5bT7",
        "colab": {
          "base_uri": "https://localhost:8080/"
        },
        "outputId": "8e078b71-36e2-4c64-bc0c-1bccac9d920e"
      },
      "execution_count": 73,
      "outputs": [
        {
          "output_type": "stream",
          "name": "stdout",
          "text": [
            "/usr/local/lib/python3.7/dist-packages/gdown/cli.py:131: FutureWarning: Option `--id` was deprecated in version 4.3.1 and will be removed in 5.0. You don't need to pass it anymore to use a file ID.\n",
            "  category=FutureWarning,\n",
            "Downloading...\n",
            "From: https://drive.google.com/uc?id=101uOTEhpm7t3Y4iIPpA_isGUHGKXafsA\n",
            "To: /content/intent-test.txt\n",
            "100% 600/600 [00:00<00:00, 1.06MB/s]\n"
          ]
        }
      ]
    },
    {
      "cell_type": "code",
      "source": [
        "def detect_intent(sentence):\n",
        "\n",
        "  intents = []\n",
        "\n",
        "  sent_inp, sent_mask = encode_text(bert_tokenizer, [sentence], max_length)\n",
        "  predicted_intent = intent_model.predict([sent_inp, sent_mask])\n",
        "  predicted_intent[predicted_intent>=0.5] = 1\n",
        "  predicted_intent[predicted_intent<0.5] = 0\n",
        "  for i in range(len(predicted_intent[0])):\n",
        "    if predicted_intent[0][i] == 1:\n",
        "      intents.append(intent_list[i])\n",
        "\n",
        "  return intents"
      ],
      "metadata": {
        "id": "aIpSJEpsP96A"
      },
      "execution_count": 40,
      "outputs": []
    },
    {
      "cell_type": "code",
      "source": [
        "with open('intent-test.txt') as f:\n",
        "  for sent in f:\n",
        "    sent = sent.strip()\n",
        "    intents = detect_intent(sent)\n",
        "    print(sent)\n",
        "    print(intents)\n",
        "    print('==========================================')"
      ],
      "metadata": {
        "colab": {
          "base_uri": "https://localhost:8080/"
        },
        "id": "rtq9LQFqQdHo",
        "outputId": "7fe74713-13be-47e4-f9c8-954828fcbd88"
      },
      "execution_count": 75,
      "outputs": [
        {
          "output_type": "stream",
          "name": "stderr",
          "text": [
            "/usr/local/lib/python3.7/dist-packages/transformers/tokenization_utils_base.py:2269: FutureWarning: The `pad_to_max_length` argument is deprecated and will be removed in a future version, use `padding=True` or `padding='longest'` to pad to the longest sequence in the batch, or use `padding='max_length'` to pad to a max length. In this case, you can give a specific length with `max_length` (e.g. `max_length=45`) or leave max_length to None to pad to the maximal input size of the model (e.g. 512 for Bert).\n",
            "  FutureWarning,\n"
          ]
        },
        {
          "output_type": "stream",
          "name": "stdout",
          "text": [
            "is it in the cheap price range\n",
            "['confirm_pricerange']\n",
            "==========================================\n",
            "is there a cheap restaurant that serves vietnamese food\n",
            "['confirm_food']\n",
            "==========================================\n",
            "can i please have their phone number\n",
            "['request_phone']\n",
            "==========================================\n",
            "no thank you good bye\n",
            "['bye', 'negate']\n",
            "==========================================\n",
            "i am looking for an expensive restaurant that serves australian food\n",
            "['inform_pricerange', 'inform_food']\n",
            "==========================================\n",
            "how about asian oriental food\n",
            "['inform_food', 'reqalts']\n",
            "==========================================\n",
            "i got to find a cheap restaurant that serves mexican food\n",
            "['inform_pricerange', 'inform_food']\n",
            "==========================================\n",
            "okay and uh whats their phone number please\n",
            "['request_phone']\n",
            "==========================================\n",
            "i would like to find a moderately priced restaurant in the north part of town\n",
            "['inform_pricerange', 'inform_area']\n",
            "==========================================\n",
            "im looking for a restaurant that serves unusual food\n",
            "['inform_food']\n",
            "==========================================\n",
            "im looking for a restaurant in the north part of town serving jamaican food\n",
            "['inform_area', 'inform_food']\n",
            "==========================================\n",
            "how about gastro pub type of food\n",
            "['inform_food', 'reqalts']\n",
            "==========================================\n"
          ]
        }
      ]
    },
    {
      "cell_type": "markdown",
      "source": [
        "#**Q3**"
      ],
      "metadata": {
        "id": "Hxk_V5psiA1A"
      }
    },
    {
      "cell_type": "code",
      "source": [
        "def get_all_restaurants(path):\n",
        "  f = open (path, 'r')\n",
        "  data = json.loads(f.read())\n",
        "  db_results = []\n",
        "\n",
        "  for i in range(len(data)):\n",
        "    for res in data[i]:\n",
        "      if 'db_result' in res:\n",
        "        if res['db_result']:\n",
        "          db_results.append(res['db_result'])\n",
        "\n",
        "  f.close()\n",
        "\n",
        "  return db_results"
      ],
      "metadata": {
        "id": "9u2MHyLaE4Nu"
      },
      "execution_count": 41,
      "outputs": []
    },
    {
      "cell_type": "code",
      "source": [
        "restaurant_list = get_all_restaurants('simple-dstc2-trn.json')"
      ],
      "metadata": {
        "id": "h9pYGhImOAX8"
      },
      "execution_count": 42,
      "outputs": []
    },
    {
      "cell_type": "code",
      "source": [
        "# remove duplicates\n",
        "restaurant_list = [dict(t) for t in {tuple(d.items()) for d in restaurant_list}]"
      ],
      "metadata": {
        "id": "kQUc7_qXQ1Tb"
      },
      "execution_count": 43,
      "outputs": []
    },
    {
      "cell_type": "code",
      "source": [
        "restaurant_list = sorted(restaurant_list, key=lambda d: d['name']) "
      ],
      "metadata": {
        "id": "7nktpU7GOiub"
      },
      "execution_count": 44,
      "outputs": []
    },
    {
      "cell_type": "code",
      "source": [
        "sorted_restaurant = []\n",
        "keys_list = ['name', 'food', 'area', 'pricerange', 'phone', 'addr', 'postcode']\n",
        "for i in range(len(restaurant_list)):\n",
        "  items = sorted(restaurant_list[i].items(), key=lambda pair: keys_list.index(pair[0]))\n",
        "  sorted_restaurant.append(items)"
      ],
      "metadata": {
        "id": "tsv7jpVjSKfg"
      },
      "execution_count": 45,
      "outputs": []
    },
    {
      "cell_type": "code",
      "source": [
        "sorted_restaurant[:2]"
      ],
      "metadata": {
        "colab": {
          "base_uri": "https://localhost:8080/"
        },
        "id": "B9HA_tG9U2Na",
        "outputId": "28081839-d440-474d-cdb4-9bec00a53e55"
      },
      "execution_count": 46,
      "outputs": [
        {
          "output_type": "execute_result",
          "data": {
            "text/plain": [
              "[[('name', 'ali baba'),\n",
              "  ('food', 'lebanese'),\n",
              "  ('area', 'centre'),\n",
              "  ('pricerange', 'moderate'),\n",
              "  ('phone', '01462 432565'),\n",
              "  ('addr', '59 hills road city centre'),\n",
              "  ('postcode', 'c.b 2, 1 n.t')],\n",
              " [('name', 'anatolia'),\n",
              "  ('food', 'turkish'),\n",
              "  ('area', 'centre'),\n",
              "  ('pricerange', 'moderate'),\n",
              "  ('phone', '01223 362372'),\n",
              "  ('addr', '30 bridge street city centre'),\n",
              "  ('postcode', 'c.b 2, 1 u.j')]]"
            ]
          },
          "metadata": {},
          "execution_count": 46
        }
      ]
    },
    {
      "cell_type": "code",
      "source": [
        "!gdown --id 1-snND1ySP8qslXLVScy6z7lSPZTc4WI4"
      ],
      "metadata": {
        "colab": {
          "base_uri": "https://localhost:8080/"
        },
        "id": "kTnHGWxuS3Mj",
        "outputId": "f8b48452-6fed-4bc0-866c-ae689386b753"
      },
      "execution_count": 53,
      "outputs": [
        {
          "output_type": "stream",
          "name": "stdout",
          "text": [
            "/usr/local/lib/python3.7/dist-packages/gdown/cli.py:131: FutureWarning: Option `--id` was deprecated in version 4.3.1 and will be removed in 5.0. You don't need to pass it anymore to use a file ID.\n",
            "  category=FutureWarning,\n",
            "Downloading...\n",
            "From: https://drive.google.com/uc?id=1-snND1ySP8qslXLVScy6z7lSPZTc4WI4\n",
            "To: /content/db-test.txt\n",
            "100% 188/188 [00:00<00:00, 210kB/s]\n"
          ]
        }
      ]
    },
    {
      "cell_type": "code",
      "source": [
        "db_test = []\n",
        "with open('db-test.txt') as f:\n",
        "  for query in f:\n",
        "    d = json.loads('{'+query.strip(',\\n')+'}')\n",
        "    db_test.append(d)"
      ],
      "metadata": {
        "id": "fEul7RmlfpO3"
      },
      "execution_count": 54,
      "outputs": []
    },
    {
      "cell_type": "code",
      "source": [
        "def find_restaurant(query):\n",
        "  res = []\n",
        "\n",
        "  for key, value in query.items():\n",
        "    tmp = []\n",
        "    for restaurant in restaurant_list:\n",
        "      if key in restaurant:\n",
        "        if restaurant[key] == value:\n",
        "          tmp.append(restaurant['name'])\n",
        "    if len(res) == 0:\n",
        "      res = tmp\n",
        "    else:\n",
        "      res = list(set(res) & set(tmp))  \n",
        "\n",
        "  res.sort()\n",
        "  return res"
      ],
      "metadata": {
        "id": "I-bl9aGdVTyY"
      },
      "execution_count": 55,
      "outputs": []
    },
    {
      "cell_type": "code",
      "source": [
        "for query in db_test:\n",
        "  result = find_restaurant(query)\n",
        "  print(query)\n",
        "  print(len(result))\n",
        "\n",
        "  for value in result:\n",
        "    print(value)\n",
        "  print('\\n'*5)"
      ],
      "metadata": {
        "colab": {
          "base_uri": "https://localhost:8080/"
        },
        "id": "TnfgjW1cVxM6",
        "outputId": "5f1de5b6-112a-49b0-b209-c6d7fba7972c"
      },
      "execution_count": 85,
      "outputs": [
        {
          "output_type": "stream",
          "name": "stdout",
          "text": [
            "{'food': 'indian', 'phone': '01223 506055'}\n",
            "1\n",
            "tandoori palace\n",
            "\n",
            "\n",
            "\n",
            "\n",
            "\n",
            "\n",
            "{'pricerange': 'cheap', 'area': 'east'}\n",
            "1\n",
            "the missing sock\n",
            "\n",
            "\n",
            "\n",
            "\n",
            "\n",
            "\n",
            "{'phone': '01223 311911', 'area': 'centre'}\n",
            "1\n",
            "kymmoy\n",
            "\n",
            "\n",
            "\n",
            "\n",
            "\n",
            "\n",
            "{'name': 'cocum'}\n",
            "1\n",
            "cocum\n",
            "\n",
            "\n",
            "\n",
            "\n",
            "\n",
            "\n",
            "{'addr': '290 mill road city centre'}\n",
            "1\n",
            "royal standard\n",
            "\n",
            "\n",
            "\n",
            "\n",
            "\n",
            "\n"
          ]
        }
      ]
    },
    {
      "cell_type": "markdown",
      "source": [
        "#**Q4**"
      ],
      "metadata": {
        "id": "bhVTL9JehzxN"
      }
    },
    {
      "cell_type": "code",
      "source": [
        "templates = {}\n",
        "with open('simple-dstc2-templates.txt') as f:\n",
        "  for line in f:\n",
        "    key, value = line.strip().split('\\t')\n",
        "    templates[key] = value"
      ],
      "metadata": {
        "id": "oSTSnJPHxdAE"
      },
      "execution_count": 56,
      "outputs": []
    },
    {
      "cell_type": "code",
      "source": [
        "def get_addr(name):\n",
        "  res = ''\n",
        "  for rest in restaurant_list:\n",
        "    if rest['name'] == name:\n",
        "      res = rest['addr']\n",
        "  return res"
      ],
      "metadata": {
        "id": "iQPaFz3cTXpB"
      },
      "execution_count": 57,
      "outputs": []
    },
    {
      "cell_type": "code",
      "source": [
        "def get_phone(name):\n",
        "  res = ''\n",
        "  for rest in restaurant_list:\n",
        "    if rest['name'] == name:\n",
        "      res = rest['phone']\n",
        "  return res"
      ],
      "metadata": {
        "id": "r4zHchbCT9Di"
      },
      "execution_count": 58,
      "outputs": []
    },
    {
      "cell_type": "code",
      "source": [
        "def get_phone(name):\n",
        "  res = ''\n",
        "  for rest in restaurant_list:\n",
        "    if rest['name'] == name:\n",
        "      res = rest['postcode']\n",
        "  return res"
      ],
      "metadata": {
        "id": "XTgowJl3UOWV"
      },
      "execution_count": 59,
      "outputs": []
    },
    {
      "cell_type": "code",
      "source": [
        "def get_res(cach_dict):\n",
        "  tmp = cach_dict\n",
        "  name = ''\n",
        "  if 'food' in tmp and 'pricerange' in tmp and 'area' in tmp:\n",
        "    res = find_restaurant(tmp)\n",
        "    if len(res) > 0:\n",
        "      sent = templates['inform_area+inform_food+inform_pricerange+offer_name']\n",
        "      name = res[0]\n",
        "      sent = sent.replace('#name', res[0])\n",
        "      sent = sent.replace('#food', tmp['food'])\n",
        "      sent = sent.replace('#pricerange', tmp['pricerange'])\n",
        "      sent = sent.replace('#area', tmp['area'])\n",
        "      print(sent)\n",
        "    else:\n",
        "      sent = templates['canthelp_area_food_pricerange']\n",
        "      sent = sent.replace('#food', tmp['food'])\n",
        "      sent = sent.replace('#pricerange', caches['pricerange'])\n",
        "      sent = sent.replace('#area', tmp['area'])\n",
        "      print(sent)\n",
        "  elif 'food' in tmp and 'pricerange' in tmp and 'area' not in tmp:\n",
        "    res = find_restaurant(tmp)\n",
        "    if len(res) > 0:\n",
        "      name = res[0]\n",
        "      sent = templates['inform_food+inform_pricerange+offer_name']\n",
        "      sent = sent.replace('#name', res[0])\n",
        "      sent = sent.replace('#food', tmp['food'])\n",
        "      sent = sent.replace('#pricerange', tmp['pricerange'])\n",
        "      print(sent)\n",
        "    else:\n",
        "      sent = templates['canthelp_food_pricerange']\n",
        "      sent = sent.replace('#food', tmp['food'])\n",
        "      sent = sent.replace('#pricerange', tmp['pricerange'])\n",
        "      print(sent)\n",
        "  elif 'food' in tmp and 'area' in tmp and 'pricerange' not in tmp:\n",
        "    res = find_restaurant(tmp)\n",
        "    if len(res) > 0:\n",
        "      name = res[0]\n",
        "      sent = templates['inform_area+inform_food+offer_name']\n",
        "      sent = sent.replace('#name', res[0])\n",
        "      sent = sent.replace('#food', tmp['food'])\n",
        "      sent = sent.replace('#area', tmp['area'])\n",
        "      print(sent)\n",
        "    else:\n",
        "      sent = templates['canthelp_area_food']\n",
        "      sent = sent.replace('#food', tmp['food'])\n",
        "      sent = sent.replace('#area', tmp['area'])\n",
        "      print(sent) \n",
        "  elif 'food' in tmp and 'pricerange' not in tmp and 'area' not in tmp:\n",
        "    res = find_restaurant(tmp)\n",
        "    if len(res) > 0:\n",
        "      name = res[0]\n",
        "      sent = templates['inform_food+offer_name']\n",
        "      sent = sent.replace('#name', res[0])\n",
        "      sent = sent.replace('#food', tmp['food'])\n",
        "      print(sent)\n",
        "    else:\n",
        "      sent = templates['canthelp_food_pricerange']\n",
        "      sent = sent.replace('#food', tmp['food'])\n",
        "      print(sent)\n",
        "  elif 'food' not in tmp and 'pricerange' in tmp and 'area' in tmp:\n",
        "    res = find_restaurant(tmp)\n",
        "    if len(res) > 0:\n",
        "      name = res[0]\n",
        "      sent = templates['inform_area+inform_pricerange+offer_name']\n",
        "      sent = sent.replace('#name', res[0])\n",
        "      sent = sent.replace('#pricerange', tmp['pricerange'])\n",
        "      sent = sent.replace('#area', tmp['area'])\n",
        "      print(sent)\n",
        "    else:\n",
        "      sent = templates['canthelp_area_pricerange']\n",
        "      sent = sent.replace('#pricerange', tmp['pricerange'])\n",
        "      sent = sent.replace('#area', tmp['area'])\n",
        "      print(sent)\n",
        "  elif 'food' not in tmp and 'pricerange' in tmp and 'area' not in tmp:\n",
        "    res = find_restaurant(tmp)\n",
        "    if len(res) > 0:\n",
        "      name = res[0]\n",
        "      sent = templates['inform_pricerange+offer_name']\n",
        "      sent = sent.replace('#name', res[0])\n",
        "      sent = sent.replace('#pricerange', tmp['pricerange'])\n",
        "      print(sent)\n",
        "    else:\n",
        "      sent = templates['canthelp_pricerange']\n",
        "      sent = sent.replace('#pricerange', tmp['pricerange'])\n",
        "      print(sent)\n",
        "  elif 'food' not in tmp and 'pricerange' not in tmp and 'area' in tmp:\n",
        "    res = find_restaurant(tmp)\n",
        "    if len(res) > 0:\n",
        "      name = res[0]\n",
        "      sent = templates['inform_area+offer_name']\n",
        "      sent = sent.replace('#name', res[0])\n",
        "      sent = sent.replace('#area', tmp['area'])\n",
        "      print(sent)\n",
        "    else:\n",
        "      sent = templates['canthelp_area']\n",
        "      sent = sent.replace('#area', tmp['area'])\n",
        "      print(sent)\n",
        "  return name"
      ],
      "metadata": {
        "id": "vX6oDqqsP9vO"
      },
      "execution_count": 115,
      "outputs": []
    },
    {
      "cell_type": "code",
      "source": [
        "def process_query(sentence, caches, rest_name):\n",
        "\n",
        "  intents = detect_intent(sentence)\n",
        "  slots, tags = fill_slots(sentence)\n",
        "  name = ''\n",
        "  if len(intents) == 0:\n",
        "    print(templates['confirm-domain'])\n",
        "  elif 'hello' in intents:\n",
        "    print(templates['welcomemsg'])\n",
        "  elif 'thankyou' in intents:\n",
        "    print(templates['bye'])\n",
        "  elif 'bye' in intents:\n",
        "    print('Bye, Have a Great Time!')\n",
        "    caches = {'pricerange':'', 'food':'', 'area':''}\n",
        "    name = ''\n",
        "  elif 'restart' in intents:\n",
        "    print('restart system')\n",
        "    caches = {'pricerange':'', 'food':'', 'area':''}\n",
        "    name = ''\n",
        "  elif len(intents) == 1:\n",
        "    if intents[0] == 'inform_pricerange':\n",
        "      if 'pricerange' in slots:\n",
        "        pricerange = slots['pricerange']\n",
        "        caches['pricerange'] = pricerange\n",
        "        tmp = {key:val for key, val in caches.items() if val != ''}\n",
        "        name = get_res(tmp)\n",
        "        if caches['food'] == '':\n",
        "          print(templates['request_food'])\n",
        "        \n",
        "    elif intents[0] == 'inform_food':\n",
        "      if 'food' in slots:\n",
        "        food = slots['food']\n",
        "        caches['food'] = food\n",
        "        tmp = {key:val for key, val in caches.items() if val != ''}\n",
        "        name = get_res(tmp)\n",
        "    elif intents[0] == 'inform_area':\n",
        "      if 'area' in slots:\n",
        "        area = slots['area']\n",
        "        caches['area'] == area\n",
        "        tmp = {key:val for key, val in caches.items() if val != ''}\n",
        "        name = get_res(tmp)        \n",
        "        if caches['food'] == '':\n",
        "          print(templates['request_food'])\n",
        "\n",
        "    elif intents[0] == 'request_addr':\n",
        "      sent = templates['inform_addr+offer_name']\n",
        "      sent = sent.replace('#name', rest_name)\n",
        "      sent = sent.replace('#addr', get_addr(rest_name))\n",
        "      print(sent)\n",
        "    elif intents[0] == 'request_phone':\n",
        "      sent = templates['inform_phone+offer_name']\n",
        "      sent = sent.replace('#name', rest_name)\n",
        "      sent = sent.replace('#addr', get_phone(rest_name))\n",
        "      print(sent)\n",
        "  \n",
        "  elif len(intents) == 2:\n",
        "    if 'request_food' in intents and 'request_pricerange' in intents:\n",
        "      pricerange = slots['pricerange']\n",
        "      food = slots['food']\n",
        "      caches['pricerange'] = pricerange\n",
        "      caches['food'] = food\n",
        "      tmp = {key:val for key, val in caches.items() if val != ''}\n",
        "      name = get_res(tmp)\n",
        "    elif 'request_food' in intents and 'request_area' in intents:\n",
        "      area = slots['area']\n",
        "      food = slots['food']\n",
        "      caches['food'] = food\n",
        "      caches['area'] = area\n",
        "      tmp = {key:val for key, val in caches.items() if val != ''}\n",
        "      name = get_res(tmp)\n",
        "\n",
        "    elif 'request_pricerange' in intents and 'request_area' in intents:\n",
        "      area = slots['area']\n",
        "      pricerange = slots['pricerange']\n",
        "      caches['area'] = area\n",
        "      caches['pricerange'] = pricerange\n",
        "      tmp = {key:val for key, val in caches.items() if val != ''}\n",
        "      name = get_res(tmp)  \n",
        "    elif 'inform_area' in intents:\n",
        "      area = slots['area']\n",
        "      caches['area'] = area\n",
        "      tmp = {key:val for key, val in caches.items() if val != ''}\n",
        "      name = get_res(tmp)        \n",
        "\n",
        "  elif len(intents) == 3:\n",
        "    if 'request_food' in intents and 'request_pricerange' in intents and 'request_area' in intents:\n",
        "      area = slots['area']\n",
        "      pricerange = slots['pricerange']\n",
        "      food = slots['food']\n",
        "      caches['food'] = food\n",
        "      caches['pricerange'] = pricerange\n",
        "      caches['area'] = area\n",
        "      name = get_res(caches)\n",
        "\n",
        "  return caches, name\n"
      ],
      "metadata": {
        "id": "dMax4vF4q0vL"
      },
      "execution_count": 122,
      "outputs": []
    },
    {
      "cell_type": "code",
      "source": [
        "caches = {'pricerange':'', 'food':'', 'area':''}\n",
        "rest_name = ''\n",
        "while(True):\n",
        "  sent = input()\n",
        "  if sent == 'exit':\n",
        "    break\n",
        "  caches, rest_name = process_query(sent, caches, rest_name)"
      ],
      "metadata": {
        "colab": {
          "base_uri": "https://localhost:8080/"
        },
        "id": "wVhsR0CCiDE_",
        "outputId": "64d62f9d-7f79-49ee-b334-43ffb10a05ff"
      },
      "execution_count": 123,
      "outputs": [
        {
          "name": "stdout",
          "output_type": "stream",
          "text": [
            "hi\n"
          ]
        },
        {
          "output_type": "stream",
          "name": "stderr",
          "text": [
            "/usr/local/lib/python3.7/dist-packages/transformers/tokenization_utils_base.py:2269: FutureWarning: The `pad_to_max_length` argument is deprecated and will be removed in a future version, use `padding=True` or `padding='longest'` to pad to the longest sequence in the batch, or use `padding='max_length'` to pad to a max length. In this case, you can give a specific length with `max_length` (e.g. `max_length=45`) or leave max_length to None to pad to the maximal input size of the model (e.g. 512 for Bert).\n",
            "  FutureWarning,\n"
          ]
        },
        {
          "name": "stdout",
          "output_type": "stream",
          "text": [
            "Hello, welcome to the Cambridge restaurant system. You can ask for restaurants by area, price range or food type. How may I help you?\n",
            "a cheap restaurant plz\n",
            "The price range at ask is cheap.\n",
            "What kind of food would you like?\n",
            "chinese\n",
            "charlie chan serves chinese food in the cheap price range.\n",
            "address\n",
            "Sure, charlie chan is on regent street city centre.\n",
            "how about west area is there any there\n",
            "Sorry there is no cheap restaurant in the west of town serving chinese food.\n",
            "oh thanks\n",
            "You are welcome!\n",
            "bye\n",
            "Bye, Have a Great Time!\n",
            "exit\n"
          ]
        }
      ]
    },
    {
      "cell_type": "markdown",
      "source": [
        "#**Q5**\n",
        "joint intent detection and slot filling model"
      ],
      "metadata": {
        "id": "w2Rik-fFhl6-"
      }
    },
    {
      "cell_type": "code",
      "source": [
        "class JointIntentAndSlotFillingModel(tf.keras.Model):\n",
        "\n",
        "    def __init__(self, total_intent_no=None, total_slot_no=None, dropout_prob=0.1):\n",
        "        super().__init__()\n",
        "        self.bert = TFBertModel.from_pretrained('bert-base-uncased')\n",
        "        self.dropout = Dropout(dropout_prob)\n",
        "        self.intent_classifier = Dense(total_intent_no, activation='sigmoid')\n",
        "        self.slot_classifier = Dense(total_slot_no, activation='softmax')\n",
        "\n",
        "    def call(self, inputs, **kwargs):\n",
        "        bert_output = self.bert(inputs)\n",
        "\n",
        "        sequence_output = self.dropout(bert_output[0])\n",
        "        slots_predicted = self.slot_classifier(sequence_output)\n",
        "\n",
        "        pooled_output = self.dropout(bert_output[1])\n",
        "        intent_predicted = self.intent_classifier(pooled_output)\n",
        "\n",
        "        return slots_predicted, intent_predicted"
      ],
      "metadata": {
        "id": "89Vo2eyQuJfV"
      },
      "execution_count": 107,
      "outputs": []
    },
    {
      "cell_type": "code",
      "source": [
        "joint_model = JointIntentAndSlotFillingModel(total_intent_no=intent_num, total_slot_no=slot_num,dropout_prob=0.1)"
      ],
      "metadata": {
        "colab": {
          "base_uri": "https://localhost:8080/"
        },
        "id": "Iss-8Ag3_1sf",
        "outputId": "2194721c-ea2a-4506-d23d-8a3c7faaccc4"
      },
      "execution_count": 108,
      "outputs": [
        {
          "output_type": "stream",
          "name": "stderr",
          "text": [
            "Some layers from the model checkpoint at bert-base-uncased were not used when initializing TFBertModel: ['mlm___cls', 'nsp___cls']\n",
            "- This IS expected if you are initializing TFBertModel from the checkpoint of a model trained on another task or with another architecture (e.g. initializing a BertForSequenceClassification model from a BertForPreTraining model).\n",
            "- This IS NOT expected if you are initializing TFBertModel from the checkpoint of a model that you expect to be exactly identical (initializing a BertForSequenceClassification model from a BertForSequenceClassification model).\n",
            "All the layers of TFBertModel were initialized from the model checkpoint at bert-base-uncased.\n",
            "If your task is similar to the task the model of the checkpoint was trained on, you can already use TFBertModel for predictions without further training.\n"
          ]
        }
      ]
    },
    {
      "cell_type": "code",
      "source": [
        "opt = tf.keras.optimizers.Adam(learning_rate=3e-5, epsilon=1e-08)\n",
        "losses = [tf.keras.losses.SparseCategoricalCrossentropy(),\n",
        "          'binary_crossentropy']\n",
        "metrics = [tf.keras.metrics.SparseCategoricalAccuracy('accuracy')]\n",
        "\n",
        "joint_model.compile(optimizer=opt, loss=losses, metrics='accuracy')"
      ],
      "metadata": {
        "id": "3ivRZ-yt__kT"
      },
      "execution_count": 122,
      "outputs": []
    },
    {
      "cell_type": "code",
      "source": [
        "history = joint_model.fit(\n",
        "    [train_inp, train_mask], (train_slots,train_labels),\n",
        "    validation_data=([valid_inp, valid_mask], (valid_slots, valid_labels)),\n",
        "    epochs=1, batch_size=32)"
      ],
      "metadata": {
        "colab": {
          "base_uri": "https://localhost:8080/"
        },
        "id": "SWDq-DOdFtEK",
        "outputId": "2de057b5-7e56-48a1-efde-fa778dd58795"
      },
      "execution_count": 123,
      "outputs": [
        {
          "output_type": "stream",
          "name": "stdout",
          "text": [
            "61/61 [==============================] - 59s 609ms/step - loss: 0.5916 - output_1_loss: 0.2547 - output_2_loss: 0.3368 - output_1_accuracy: 0.9366 - output_2_accuracy: 0.2038 - val_loss: 0.1973 - val_output_1_loss: 0.0472 - val_output_2_loss: 0.1501 - val_output_1_accuracy: 0.9872 - val_output_2_accuracy: 0.3165\n"
          ]
        }
      ]
    }
  ]
}